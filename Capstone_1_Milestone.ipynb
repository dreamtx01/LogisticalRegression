{
  "nbformat": 4,
  "nbformat_minor": 0,
  "metadata": {
    "colab": {
      "name": "Capstone_1_Milestone.ipynb",
      "provenance": [],
      "collapsed_sections": [],
      "authorship_tag": "ABX9TyODb6cMaysiNE5+5hYZCCys",
      "include_colab_link": true
    },
    "kernelspec": {
      "name": "python3",
      "display_name": "Python 3"
    }
  },
  "cells": [
    {
      "cell_type": "markdown",
      "metadata": {
        "id": "view-in-github",
        "colab_type": "text"
      },
      "source": [
        "<a href=\"https://colab.research.google.com/github/dreamtx01/NCAA-Men-Basketball/blob/master/Capstone_1_Milestone.ipynb\" target=\"_parent\"><img src=\"https://colab.research.google.com/assets/colab-badge.svg\" alt=\"Open In Colab\"/></a>"
      ]
    },
    {
      "cell_type": "markdown",
      "metadata": {
        "id": "ZOyp0NdC--i-",
        "colab_type": "text"
      },
      "source": [
        "\n",
        "\n",
        "# NCAA Men's Basketball Milestone Report \n",
        "\n",
        "\n",
        "\n",
        "\n",
        "\n",
        "\n",
        "\n",
        "\n",
        "\n",
        "              \n",
        "\n",
        "\n",
        "\n"
      ]
    },
    {
      "cell_type": "markdown",
      "metadata": {
        "id": "3PficSg4DC9d",
        "colab_type": "text"
      },
      "source": [
        "# Abstract\n",
        "\n",
        "From 1985-2019,  teams in the regular season  of NCAA Division 1 Men's  basketball games won 92,732 of their home games but only won  47,547 of their away games, and 15,805 of matches played in neutral locations.  This home court advantage is further confirmed with a Tukey HSD test, where the statistically significant difference between the pairs home and away games, the pairs home and neutral games, versus the pair away and neutral games was calculated.\n",
        "Many articles have explained that the reason for a team’s home-court success is the presence of fans and the arena, as opposed to the fact that they are simply the better team in a particular matchup. Assuming fans are the reasons for this home court advantage, the odds are already stacked against a visiting team, when playing these basketball matches. This report tries to analyse  some of the differences between playing on the road and playing at home and sees how to optimize the in game statistics for the visiting team.\n",
        "In this report, evaluation of the in game statistics was done from matches played during the year 2005-2019. The in-game statistics showed that the average points posted for the winning team when playing at home was about three points higher than when playing away or at a neutral location; the average three-pointers scored by the winning team was  similar when playing at home versus when playing away even though there was a general trend in increasing three-pointers scored from season season to season, and the turnover conceded by the winning team was 0.5 points higher when playing at away matches than when playing at home or at a neutral location.\n",
        "In game analysis of the data also showed strong positive correlations between the field goals made and assists for the winning teams,  while there were weak correlations between turnovers conceded to the winning team to the score made by the winning team.\n",
        "A comparison of the teams with the highest winning percentages in the seasons 1985 -2019 and from  2003 -2019 were made. The reason for this is that the in game statistics was only available for seasons 2003 -2019. In these comparisons, Kansas and Duke had the highest winning percentages for the seasons 1985- 2019, while Gonzaga and Kansas had the highest winning percentages for the years 2013-2019. \n",
        "These results showed that Gonzaga must have improved a lot from the year 2003-2019, Duke might have dropped in form during this period, while Kansas maintained their consistency during both time periods of comparison.\n",
        "Based on this information a comparison was made between the average winning scores in matches for Kansas and Gonzaga. The results showed that the average winning scores when these teams play their opponents was not statistically significant. The average winning score is 75 points in matches won by both teams.\n",
        "\n",
        "\n",
        "\n",
        " --- \n",
        "__Table of Contents__\n",
        "\n",
        "[Abstract](#abstract)\n",
        "\n",
        "[Introduction](#introduction)\n",
        "\n",
        "[Objective](#objective)\n",
        "\n",
        "[Dataset](#dataset)\t\n",
        "\n",
        "[Data Type](#DataType)\n",
        "\n",
        "[Data Cleaning & Wrangling](#datacleaning&wrangling)\n",
        "\n",
        "[Handling Missing Data](#HandlingMissingData)\n",
        "\n",
        "[Exploratory Data Analysis](#exploratoryDataAnalysis)\n",
        "\n",
        "[Data Statistics](#datastatistics)\n",
        "\n",
        "---\n",
        "# Introduction\n",
        "\n",
        "The phenomenon of home field advantage is nothing new in the world of sports .  Home teams generally have the advantage of having the support of larger, more enthusiastic crowds, and it has been suggested in some studies, that it is the home court atmosphere  that enhances the home teams opportunities for winning matches.\n",
        "\n",
        "---\n",
        "\n",
        "# Objective\n",
        "\n",
        "The goal of my project is to study game factors that affect a home team winning an NCAA Division 1 Men’s basketball game, and likewise affect an away team losing a match. The information derived from these analysis can help a basketball coach tune his game play tactics and thereby increase his odds of winning a game when playing at an away location.\n",
        "\n",
        "---\n",
        "\n",
        "# Dataset \n",
        "\n",
        "The dataset for this analysis will be obtained  from Kaggle [Dataset](https://www.kaggle.com/c/mens-machine-learning-competition-2019/data \"Dataset\").This data is associated with an annual competition sponsored by Google.The datasets explored in our analysis were from the tables\n",
        "\n",
        "\n",
        "---\n",
        "* RegularSeasonDetailedResults.csv \n",
        "> _The regular season detailed results file identifies the game by game match play data and results for regular season matches for the years 2003 - 2019. The dataset for the regular detailed season games consists of 87,366 data points for 350 college basketball teams playing in the NCAA since 2002. This dataset includes 34 variables such as number of assists, three-point percentages per game, win and loss records per season, location of matches played._\n",
        "\n",
        "* RegularSeasonCompactResults.csv \n",
        ">_The regular season compact results identifies just the team losses and wins from 1985-2016. The dataset for the regular season compact games consists of 156,089 entries and 8 variables. These variables do not include in-game data._\n",
        "\n",
        "\n",
        "* TeamSpellings.csv \n",
        ">_The teamspellings file is used to correlate TeamID numbers with their associated names_. \n",
        "\n"
      ]
    },
    {
      "cell_type": "code",
      "metadata": {
        "id": "iZr5Kjg3_1UK",
        "colab_type": "code",
        "colab": {
          "resources": {
            "http://localhost:8080/nbextensions/google.colab/files.js": {
              "data": "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",
              "ok": true,
              "headers": [
                [
                  "content-type",
                  "application/javascript"
                ]
              ],
              "status": 200,
              "status_text": ""
            }
          },
          "base_uri": "https://localhost:8080/",
          "height": 221
        },
        "cellView": "both",
        "outputId": "c61cdeca-9129-4104-ac7a-66e267188364"
      },
      "source": [
        "\n",
        "# Code 1: Dataset\n",
        "import numpy as np\n",
        "import pandas as pd\n",
        "import seaborn as sns\n",
        "from scipy.stats import f_oneway,ttest_ind,ttest_1samp, stats\n",
        "from statsmodels.stats.multicomp import pairwise_tukeyhsd\n",
        "\n",
        "\n",
        "\n",
        "from IPython import display\n",
        "%matplotlib inline\n",
        "\n",
        "import matplotlib.pyplot as plt\n",
        "from collections import Counter\n",
        "\n",
        "from IPython import display\n",
        "from ipywidgets import interact, widgets\n",
        "\n",
        "from google.colab import files\n",
        "uploaded =files.upload()\n",
        "\n",
        "import io\n",
        "capstone2= pd.read_csv(io.BytesIO(uploaded[\"RegularSeasonCompactResults.csv\"]))\n",
        "\n",
        "uploaded =files.upload()\n",
        "import io\n",
        "capstone= pd.read_csv(io.BytesIO(uploaded[\"RegularSeasonDetailedResults.csv\"]))\n",
        "\n",
        "uploaded =files.upload()\n",
        "import io\n",
        "cap= pd.read_csv(io.BytesIO(uploaded[\"TeamSpellings.csv\"]),encoding =\"latin\")\n",
        "\n",
        "\n",
        "\n",
        "\n",
        "\n",
        "\n",
        "\n",
        "\n"
      ],
      "execution_count": 1,
      "outputs": [
        {
          "output_type": "stream",
          "text": [
            "/usr/local/lib/python3.6/dist-packages/statsmodels/tools/_testing.py:19: FutureWarning: pandas.util.testing is deprecated. Use the functions in the public API at pandas.testing instead.\n",
            "  import pandas.util.testing as tm\n"
          ],
          "name": "stderr"
        },
        {
          "output_type": "display_data",
          "data": {
            "text/html": [
              "\n",
              "     <input type=\"file\" id=\"files-63556880-4431-4cb7-b997-6e9643322b4b\" name=\"files[]\" multiple disabled />\n",
              "     <output id=\"result-63556880-4431-4cb7-b997-6e9643322b4b\">\n",
              "      Upload widget is only available when the cell has been executed in the\n",
              "      current browser session. Please rerun this cell to enable.\n",
              "      </output>\n",
              "      <script src=\"/nbextensions/google.colab/files.js\"></script> "
            ],
            "text/plain": [
              "<IPython.core.display.HTML object>"
            ]
          },
          "metadata": {
            "tags": []
          }
        },
        {
          "output_type": "stream",
          "text": [
            "Saving RegularSeasonCompactResults.csv to RegularSeasonCompactResults (1).csv\n"
          ],
          "name": "stdout"
        },
        {
          "output_type": "display_data",
          "data": {
            "text/html": [
              "\n",
              "     <input type=\"file\" id=\"files-51a258cc-82d7-4e18-bdf1-c78f6695da19\" name=\"files[]\" multiple disabled />\n",
              "     <output id=\"result-51a258cc-82d7-4e18-bdf1-c78f6695da19\">\n",
              "      Upload widget is only available when the cell has been executed in the\n",
              "      current browser session. Please rerun this cell to enable.\n",
              "      </output>\n",
              "      <script src=\"/nbextensions/google.colab/files.js\"></script> "
            ],
            "text/plain": [
              "<IPython.core.display.HTML object>"
            ]
          },
          "metadata": {
            "tags": []
          }
        },
        {
          "output_type": "stream",
          "text": [
            "Saving RegularSeasonDetailedResults.csv to RegularSeasonDetailedResults (1).csv\n"
          ],
          "name": "stdout"
        },
        {
          "output_type": "display_data",
          "data": {
            "text/html": [
              "\n",
              "     <input type=\"file\" id=\"files-218c8019-bcf2-414c-9316-5115e49feaf1\" name=\"files[]\" multiple disabled />\n",
              "     <output id=\"result-218c8019-bcf2-414c-9316-5115e49feaf1\">\n",
              "      Upload widget is only available when the cell has been executed in the\n",
              "      current browser session. Please rerun this cell to enable.\n",
              "      </output>\n",
              "      <script src=\"/nbextensions/google.colab/files.js\"></script> "
            ],
            "text/plain": [
              "<IPython.core.display.HTML object>"
            ]
          },
          "metadata": {
            "tags": []
          }
        },
        {
          "output_type": "stream",
          "text": [
            "Saving TeamSpellings.csv to TeamSpellings (1).csv\n"
          ],
          "name": "stdout"
        }
      ]
    },
    {
      "cell_type": "code",
      "metadata": {
        "id": "go7GjDmiRvkr",
        "colab_type": "code",
        "colab": {
          "base_uri": "https://localhost:8080/",
          "height": 34
        },
        "outputId": "e755c995-cef4-46db-ff29-4e789931ee63"
      },
      "source": [
        "capstone.shape\n"
      ],
      "execution_count": 2,
      "outputs": [
        {
          "output_type": "execute_result",
          "data": {
            "text/plain": [
              "(82041, 34)"
            ]
          },
          "metadata": {
            "tags": []
          },
          "execution_count": 2
        }
      ]
    },
    {
      "cell_type": "markdown",
      "metadata": {
        "id": "hH5HZP-t8-Lw",
        "colab_type": "text"
      },
      "source": [
        "A summary of the variables in the dataset is provided in the table below, with the designation that a column that begins with \"W\" or \"L\" refers to the winning or losing team:"
      ]
    },
    {
      "cell_type": "code",
      "metadata": {
        "id": "8kbtrL8dVK1U",
        "colab_type": "code",
        "colab": {
          "base_uri": "https://localhost:8080/",
          "height": 202
        },
        "outputId": "56394658-a1a0-43f5-8c58-310b85696f02"
      },
      "source": [
        "capstone.head()"
      ],
      "execution_count": 3,
      "outputs": [
        {
          "output_type": "execute_result",
          "data": {
            "text/html": [
              "<div>\n",
              "<style scoped>\n",
              "    .dataframe tbody tr th:only-of-type {\n",
              "        vertical-align: middle;\n",
              "    }\n",
              "\n",
              "    .dataframe tbody tr th {\n",
              "        vertical-align: top;\n",
              "    }\n",
              "\n",
              "    .dataframe thead th {\n",
              "        text-align: right;\n",
              "    }\n",
              "</style>\n",
              "<table border=\"1\" class=\"dataframe\">\n",
              "  <thead>\n",
              "    <tr style=\"text-align: right;\">\n",
              "      <th></th>\n",
              "      <th>Season</th>\n",
              "      <th>DayNum</th>\n",
              "      <th>WTeamID</th>\n",
              "      <th>WScore</th>\n",
              "      <th>LTeamID</th>\n",
              "      <th>LScore</th>\n",
              "      <th>WLoc</th>\n",
              "      <th>NumOT</th>\n",
              "      <th>WFGM</th>\n",
              "      <th>WFGA</th>\n",
              "      <th>WFGM3</th>\n",
              "      <th>WFGA3</th>\n",
              "      <th>WFTM</th>\n",
              "      <th>WFTA</th>\n",
              "      <th>WOR</th>\n",
              "      <th>WDR</th>\n",
              "      <th>WAst</th>\n",
              "      <th>WTO</th>\n",
              "      <th>WStl</th>\n",
              "      <th>WBlk</th>\n",
              "      <th>WPF</th>\n",
              "      <th>LFGM</th>\n",
              "      <th>LFGA</th>\n",
              "      <th>LFGM3</th>\n",
              "      <th>LFGA3</th>\n",
              "      <th>LFTM</th>\n",
              "      <th>LFTA</th>\n",
              "      <th>LOR</th>\n",
              "      <th>LDR</th>\n",
              "      <th>LAst</th>\n",
              "      <th>LTO</th>\n",
              "      <th>LStl</th>\n",
              "      <th>LBlk</th>\n",
              "      <th>LPF</th>\n",
              "    </tr>\n",
              "  </thead>\n",
              "  <tbody>\n",
              "    <tr>\n",
              "      <th>0</th>\n",
              "      <td>2003</td>\n",
              "      <td>10</td>\n",
              "      <td>1104</td>\n",
              "      <td>68</td>\n",
              "      <td>1328</td>\n",
              "      <td>62</td>\n",
              "      <td>N</td>\n",
              "      <td>0</td>\n",
              "      <td>27</td>\n",
              "      <td>58</td>\n",
              "      <td>3</td>\n",
              "      <td>14</td>\n",
              "      <td>11</td>\n",
              "      <td>18</td>\n",
              "      <td>14</td>\n",
              "      <td>24</td>\n",
              "      <td>13</td>\n",
              "      <td>23</td>\n",
              "      <td>7</td>\n",
              "      <td>1</td>\n",
              "      <td>22</td>\n",
              "      <td>22</td>\n",
              "      <td>53</td>\n",
              "      <td>2</td>\n",
              "      <td>10</td>\n",
              "      <td>16</td>\n",
              "      <td>22</td>\n",
              "      <td>10</td>\n",
              "      <td>22</td>\n",
              "      <td>8</td>\n",
              "      <td>18</td>\n",
              "      <td>9</td>\n",
              "      <td>2</td>\n",
              "      <td>20</td>\n",
              "    </tr>\n",
              "    <tr>\n",
              "      <th>1</th>\n",
              "      <td>2003</td>\n",
              "      <td>10</td>\n",
              "      <td>1272</td>\n",
              "      <td>70</td>\n",
              "      <td>1393</td>\n",
              "      <td>63</td>\n",
              "      <td>N</td>\n",
              "      <td>0</td>\n",
              "      <td>26</td>\n",
              "      <td>62</td>\n",
              "      <td>8</td>\n",
              "      <td>20</td>\n",
              "      <td>10</td>\n",
              "      <td>19</td>\n",
              "      <td>15</td>\n",
              "      <td>28</td>\n",
              "      <td>16</td>\n",
              "      <td>13</td>\n",
              "      <td>4</td>\n",
              "      <td>4</td>\n",
              "      <td>18</td>\n",
              "      <td>24</td>\n",
              "      <td>67</td>\n",
              "      <td>6</td>\n",
              "      <td>24</td>\n",
              "      <td>9</td>\n",
              "      <td>20</td>\n",
              "      <td>20</td>\n",
              "      <td>25</td>\n",
              "      <td>7</td>\n",
              "      <td>12</td>\n",
              "      <td>8</td>\n",
              "      <td>6</td>\n",
              "      <td>16</td>\n",
              "    </tr>\n",
              "    <tr>\n",
              "      <th>2</th>\n",
              "      <td>2003</td>\n",
              "      <td>11</td>\n",
              "      <td>1266</td>\n",
              "      <td>73</td>\n",
              "      <td>1437</td>\n",
              "      <td>61</td>\n",
              "      <td>N</td>\n",
              "      <td>0</td>\n",
              "      <td>24</td>\n",
              "      <td>58</td>\n",
              "      <td>8</td>\n",
              "      <td>18</td>\n",
              "      <td>17</td>\n",
              "      <td>29</td>\n",
              "      <td>17</td>\n",
              "      <td>26</td>\n",
              "      <td>15</td>\n",
              "      <td>10</td>\n",
              "      <td>5</td>\n",
              "      <td>2</td>\n",
              "      <td>25</td>\n",
              "      <td>22</td>\n",
              "      <td>73</td>\n",
              "      <td>3</td>\n",
              "      <td>26</td>\n",
              "      <td>14</td>\n",
              "      <td>23</td>\n",
              "      <td>31</td>\n",
              "      <td>22</td>\n",
              "      <td>9</td>\n",
              "      <td>12</td>\n",
              "      <td>2</td>\n",
              "      <td>5</td>\n",
              "      <td>23</td>\n",
              "    </tr>\n",
              "    <tr>\n",
              "      <th>3</th>\n",
              "      <td>2003</td>\n",
              "      <td>11</td>\n",
              "      <td>1296</td>\n",
              "      <td>56</td>\n",
              "      <td>1457</td>\n",
              "      <td>50</td>\n",
              "      <td>N</td>\n",
              "      <td>0</td>\n",
              "      <td>18</td>\n",
              "      <td>38</td>\n",
              "      <td>3</td>\n",
              "      <td>9</td>\n",
              "      <td>17</td>\n",
              "      <td>31</td>\n",
              "      <td>6</td>\n",
              "      <td>19</td>\n",
              "      <td>11</td>\n",
              "      <td>12</td>\n",
              "      <td>14</td>\n",
              "      <td>2</td>\n",
              "      <td>18</td>\n",
              "      <td>18</td>\n",
              "      <td>49</td>\n",
              "      <td>6</td>\n",
              "      <td>22</td>\n",
              "      <td>8</td>\n",
              "      <td>15</td>\n",
              "      <td>17</td>\n",
              "      <td>20</td>\n",
              "      <td>9</td>\n",
              "      <td>19</td>\n",
              "      <td>4</td>\n",
              "      <td>3</td>\n",
              "      <td>23</td>\n",
              "    </tr>\n",
              "    <tr>\n",
              "      <th>4</th>\n",
              "      <td>2003</td>\n",
              "      <td>11</td>\n",
              "      <td>1400</td>\n",
              "      <td>77</td>\n",
              "      <td>1208</td>\n",
              "      <td>71</td>\n",
              "      <td>N</td>\n",
              "      <td>0</td>\n",
              "      <td>30</td>\n",
              "      <td>61</td>\n",
              "      <td>6</td>\n",
              "      <td>14</td>\n",
              "      <td>11</td>\n",
              "      <td>13</td>\n",
              "      <td>17</td>\n",
              "      <td>22</td>\n",
              "      <td>12</td>\n",
              "      <td>14</td>\n",
              "      <td>4</td>\n",
              "      <td>4</td>\n",
              "      <td>20</td>\n",
              "      <td>24</td>\n",
              "      <td>62</td>\n",
              "      <td>6</td>\n",
              "      <td>16</td>\n",
              "      <td>17</td>\n",
              "      <td>27</td>\n",
              "      <td>21</td>\n",
              "      <td>15</td>\n",
              "      <td>12</td>\n",
              "      <td>10</td>\n",
              "      <td>7</td>\n",
              "      <td>1</td>\n",
              "      <td>14</td>\n",
              "    </tr>\n",
              "  </tbody>\n",
              "</table>\n",
              "</div>"
            ],
            "text/plain": [
              "   Season  DayNum  WTeamID  WScore  LTeamID  ...  LAst LTO  LStl  LBlk  LPF\n",
              "0    2003      10     1104      68     1328  ...     8  18     9     2   20\n",
              "1    2003      10     1272      70     1393  ...     7  12     8     6   16\n",
              "2    2003      11     1266      73     1437  ...     9  12     2     5   23\n",
              "3    2003      11     1296      56     1457  ...     9  19     4     3   23\n",
              "4    2003      11     1400      77     1208  ...    12  10     7     1   14\n",
              "\n",
              "[5 rows x 34 columns]"
            ]
          },
          "metadata": {
            "tags": []
          },
          "execution_count": 3
        }
      ]
    },
    {
      "cell_type": "code",
      "metadata": {
        "id": "wPBxHeYzRzgM",
        "colab_type": "code",
        "colab": {
          "base_uri": "https://localhost:8080/",
          "height": 34
        },
        "outputId": "4fa10f57-c1ee-4eaf-f8d8-15fb63c2ba7e"
      },
      "source": [
        "capstone2.shape"
      ],
      "execution_count": 4,
      "outputs": [
        {
          "output_type": "execute_result",
          "data": {
            "text/plain": [
              "(156089, 8)"
            ]
          },
          "metadata": {
            "tags": []
          },
          "execution_count": 4
        }
      ]
    },
    {
      "cell_type": "code",
      "metadata": {
        "id": "jcSsQ8GhVRAs",
        "colab_type": "code",
        "colab": {
          "base_uri": "https://localhost:8080/",
          "height": 202
        },
        "outputId": "e05e5e15-b996-4688-e0a1-53ca578cbd63"
      },
      "source": [
        "capstone2.head()"
      ],
      "execution_count": 5,
      "outputs": [
        {
          "output_type": "execute_result",
          "data": {
            "text/html": [
              "<div>\n",
              "<style scoped>\n",
              "    .dataframe tbody tr th:only-of-type {\n",
              "        vertical-align: middle;\n",
              "    }\n",
              "\n",
              "    .dataframe tbody tr th {\n",
              "        vertical-align: top;\n",
              "    }\n",
              "\n",
              "    .dataframe thead th {\n",
              "        text-align: right;\n",
              "    }\n",
              "</style>\n",
              "<table border=\"1\" class=\"dataframe\">\n",
              "  <thead>\n",
              "    <tr style=\"text-align: right;\">\n",
              "      <th></th>\n",
              "      <th>Season</th>\n",
              "      <th>DayNum</th>\n",
              "      <th>WTeamID</th>\n",
              "      <th>WScore</th>\n",
              "      <th>LTeamID</th>\n",
              "      <th>LScore</th>\n",
              "      <th>WLoc</th>\n",
              "      <th>NumOT</th>\n",
              "    </tr>\n",
              "  </thead>\n",
              "  <tbody>\n",
              "    <tr>\n",
              "      <th>0</th>\n",
              "      <td>1985</td>\n",
              "      <td>20</td>\n",
              "      <td>1228</td>\n",
              "      <td>81</td>\n",
              "      <td>1328</td>\n",
              "      <td>64</td>\n",
              "      <td>N</td>\n",
              "      <td>0</td>\n",
              "    </tr>\n",
              "    <tr>\n",
              "      <th>1</th>\n",
              "      <td>1985</td>\n",
              "      <td>25</td>\n",
              "      <td>1106</td>\n",
              "      <td>77</td>\n",
              "      <td>1354</td>\n",
              "      <td>70</td>\n",
              "      <td>H</td>\n",
              "      <td>0</td>\n",
              "    </tr>\n",
              "    <tr>\n",
              "      <th>2</th>\n",
              "      <td>1985</td>\n",
              "      <td>25</td>\n",
              "      <td>1112</td>\n",
              "      <td>63</td>\n",
              "      <td>1223</td>\n",
              "      <td>56</td>\n",
              "      <td>H</td>\n",
              "      <td>0</td>\n",
              "    </tr>\n",
              "    <tr>\n",
              "      <th>3</th>\n",
              "      <td>1985</td>\n",
              "      <td>25</td>\n",
              "      <td>1165</td>\n",
              "      <td>70</td>\n",
              "      <td>1432</td>\n",
              "      <td>54</td>\n",
              "      <td>H</td>\n",
              "      <td>0</td>\n",
              "    </tr>\n",
              "    <tr>\n",
              "      <th>4</th>\n",
              "      <td>1985</td>\n",
              "      <td>25</td>\n",
              "      <td>1192</td>\n",
              "      <td>86</td>\n",
              "      <td>1447</td>\n",
              "      <td>74</td>\n",
              "      <td>H</td>\n",
              "      <td>0</td>\n",
              "    </tr>\n",
              "  </tbody>\n",
              "</table>\n",
              "</div>"
            ],
            "text/plain": [
              "   Season  DayNum  WTeamID  WScore  LTeamID  LScore WLoc  NumOT\n",
              "0    1985      20     1228      81     1328      64    N      0\n",
              "1    1985      25     1106      77     1354      70    H      0\n",
              "2    1985      25     1112      63     1223      56    H      0\n",
              "3    1985      25     1165      70     1432      54    H      0\n",
              "4    1985      25     1192      86     1447      74    H      0"
            ]
          },
          "metadata": {
            "tags": []
          },
          "execution_count": 5
        }
      ]
    },
    {
      "cell_type": "markdown",
      "metadata": {
        "id": "fnPUrUvrViLB",
        "colab_type": "text"
      },
      "source": [
        "*Nomenclature*\n",
        "WTeamID - this identifies the id number of the team that won the game.\n",
        "\n",
        "WScore - this identifies the number of points scored by the winning team.\n",
        "\n",
        "LTeamID - this identifies the id number of the team that lost the game.\n",
        "\n",
        "LScore - this identifies the number of points scored by the losing team. \n",
        "\n",
        "WLoc - this identifies the \"location\" of the winning team. The home team is given the value”H”, while the visiting\n",
        "team is given the value “A”, and the value “N” is given to a match played on a neutral location. \n",
        "\n",
        "NumOT - this indicates the number of overtime periods in the game, an integer 0 or higher.\n",
        "\n",
        "WFGA - field goals attempted (by the winning team)\n",
        "\n",
        "WFGM3 - three pointers made (by the winning team)\n",
        "\n",
        "WFGA3 - three pointers attempted (by the winning team)\n",
        "\n",
        "WFTM - free throws made (by the winning team)\n",
        "\n",
        "WFTA - free throws attempted (by the winning team)\n",
        "\n",
        "WOR - offensive rebounds (pulled by the winning team)\n",
        "\n",
        "WDR - defensive rebounds (pulled by the winning team)\n",
        "\n",
        "WAst - assists (by the winning team)\n",
        "\n",
        "WTO - turnovers committed (by the winning team)\n",
        "\n",
        "WStl - steals (accomplished by the winning team)\n",
        "\n",
        "WBlk - blocks (accomplished by the winning team)\n",
        "\n",
        "WPF - personal fouls committed (by the winning team)"
      ]
    },
    {
      "cell_type": "markdown",
      "metadata": {
        "id": "4KgXzHw2nmPN",
        "colab_type": "text"
      },
      "source": [
        "# Data Cleaning & Wrangling\n",
        "Before beginning analysis of the data, it is essential to explore there is no missing data value in our dataset. It is also essential that all data in our table was of the correct data type. This upfront work will give more confidence in interrogating the data and would allow better conclusions to be made as regards the dataset. The libraries used for the data cleaning and wrangling of the data sets are: \n",
        "\n",
        "1. numpy for scientific computing of the numerical arrays \n",
        "\n",
        "2. pandas for data analysis and manipulation , \n",
        "\n",
        "3. matplotlib for visualization.\n",
        "\n",
        "# Data Type\n",
        "The next step in the data wrangling stage was to determine the type of data type in the dataset. As can be observed in the table below, there are 87,366 entries, with no missing values in any of the 34 columns. Additionally, all but one column takes integer values , whereas the lone column (WLoc) takes a string entry."
      ]
    },
    {
      "cell_type": "code",
      "metadata": {
        "id": "DKSPcJO3oGUY",
        "colab_type": "code",
        "colab": {
          "base_uri": "https://localhost:8080/",
          "height": 728
        },
        "cellView": "both",
        "outputId": "931b0d75-fc89-4899-b789-f37e4dd6ae5c"
      },
      "source": [
        "\n",
        "capstone.info()"
      ],
      "execution_count": 6,
      "outputs": [
        {
          "output_type": "stream",
          "text": [
            "<class 'pandas.core.frame.DataFrame'>\n",
            "RangeIndex: 82041 entries, 0 to 82040\n",
            "Data columns (total 34 columns):\n",
            " #   Column   Non-Null Count  Dtype \n",
            "---  ------   --------------  ----- \n",
            " 0   Season   82041 non-null  int64 \n",
            " 1   DayNum   82041 non-null  int64 \n",
            " 2   WTeamID  82041 non-null  int64 \n",
            " 3   WScore   82041 non-null  int64 \n",
            " 4   LTeamID  82041 non-null  int64 \n",
            " 5   LScore   82041 non-null  int64 \n",
            " 6   WLoc     82041 non-null  object\n",
            " 7   NumOT    82041 non-null  int64 \n",
            " 8   WFGM     82041 non-null  int64 \n",
            " 9   WFGA     82041 non-null  int64 \n",
            " 10  WFGM3    82041 non-null  int64 \n",
            " 11  WFGA3    82041 non-null  int64 \n",
            " 12  WFTM     82041 non-null  int64 \n",
            " 13  WFTA     82041 non-null  int64 \n",
            " 14  WOR      82041 non-null  int64 \n",
            " 15  WDR      82041 non-null  int64 \n",
            " 16  WAst     82041 non-null  int64 \n",
            " 17  WTO      82041 non-null  int64 \n",
            " 18  WStl     82041 non-null  int64 \n",
            " 19  WBlk     82041 non-null  int64 \n",
            " 20  WPF      82041 non-null  int64 \n",
            " 21  LFGM     82041 non-null  int64 \n",
            " 22  LFGA     82041 non-null  int64 \n",
            " 23  LFGM3    82041 non-null  int64 \n",
            " 24  LFGA3    82041 non-null  int64 \n",
            " 25  LFTM     82041 non-null  int64 \n",
            " 26  LFTA     82041 non-null  int64 \n",
            " 27  LOR      82041 non-null  int64 \n",
            " 28  LDR      82041 non-null  int64 \n",
            " 29  LAst     82041 non-null  int64 \n",
            " 30  LTO      82041 non-null  int64 \n",
            " 31  LStl     82041 non-null  int64 \n",
            " 32  LBlk     82041 non-null  int64 \n",
            " 33  LPF      82041 non-null  int64 \n",
            "dtypes: int64(33), object(1)\n",
            "memory usage: 21.3+ MB\n"
          ],
          "name": "stdout"
        }
      ]
    },
    {
      "cell_type": "markdown",
      "metadata": {
        "id": "QzQEI6hEoQFW",
        "colab_type": "text"
      },
      "source": [
        "In fact from the data set description we know that the WLoc column will take only three values each one representing the location of games played. To confirm the entry of the WLoc column we call the unique () function on that column.\n",
        "\n"
      ]
    },
    {
      "cell_type": "code",
      "metadata": {
        "id": "m0XtFppYonDH",
        "colab_type": "code",
        "colab": {
          "base_uri": "https://localhost:8080/",
          "height": 34
        },
        "cellView": "both",
        "outputId": "4262d4fa-8694-4d4e-a016-7ba2c24b4647"
      },
      "source": [
        "\n",
        "capstone.describe(include='all')\n",
        "capstone.WLoc.unique()"
      ],
      "execution_count": 7,
      "outputs": [
        {
          "output_type": "execute_result",
          "data": {
            "text/plain": [
              "array(['N', 'H', 'A'], dtype=object)"
            ]
          },
          "metadata": {
            "tags": []
          },
          "execution_count": 7
        }
      ]
    },
    {
      "cell_type": "markdown",
      "metadata": {
        "id": "EM9kJHvJ5kL9",
        "colab_type": "text"
      },
      "source": [
        "* H stands for Home game\n",
        "* A stands for away (visiting to opponent’s site)\n",
        "* N is the location of games played at a neutral location\n"
      ]
    },
    {
      "cell_type": "markdown",
      "metadata": {
        "id": "G-SmEPPz6fEu",
        "colab_type": "text"
      },
      "source": [
        "# Handling Missing Data\n",
        "The next step in the data wrangling stage is to check for any gaps in the dataset. This is confirmed with the function  “is null” and “value_counts”. The isnull function finds the null value in the data set, while the value_counts function displays the amount of the categorical variables in WLoc.   \n"
      ]
    },
    {
      "cell_type": "code",
      "metadata": {
        "id": "UoSFavF_7F_L",
        "colab_type": "code",
        "colab": {
          "base_uri": "https://localhost:8080/",
          "height": 624
        },
        "outputId": "ad8f040a-3a2d-4cf6-ace6-d8dae099548f"
      },
      "source": [
        "\n",
        "capstone.isnull().sum()"
      ],
      "execution_count": 8,
      "outputs": [
        {
          "output_type": "execute_result",
          "data": {
            "text/plain": [
              "Season     0\n",
              "DayNum     0\n",
              "WTeamID    0\n",
              "WScore     0\n",
              "LTeamID    0\n",
              "LScore     0\n",
              "WLoc       0\n",
              "NumOT      0\n",
              "WFGM       0\n",
              "WFGA       0\n",
              "WFGM3      0\n",
              "WFGA3      0\n",
              "WFTM       0\n",
              "WFTA       0\n",
              "WOR        0\n",
              "WDR        0\n",
              "WAst       0\n",
              "WTO        0\n",
              "WStl       0\n",
              "WBlk       0\n",
              "WPF        0\n",
              "LFGM       0\n",
              "LFGA       0\n",
              "LFGM3      0\n",
              "LFGA3      0\n",
              "LFTM       0\n",
              "LFTA       0\n",
              "LOR        0\n",
              "LDR        0\n",
              "LAst       0\n",
              "LTO        0\n",
              "LStl       0\n",
              "LBlk       0\n",
              "LPF        0\n",
              "dtype: int64"
            ]
          },
          "metadata": {
            "tags": []
          },
          "execution_count": 8
        }
      ]
    },
    {
      "cell_type": "code",
      "metadata": {
        "id": "6ejNzdwj_mBc",
        "colab_type": "code",
        "colab": {
          "base_uri": "https://localhost:8080/",
          "height": 86
        },
        "outputId": "5ebf9c3d-ad71-471d-c0be-eafddab2f15b"
      },
      "source": [
        "capstone.WLoc.value_counts(dropna=False)"
      ],
      "execution_count": 9,
      "outputs": [
        {
          "output_type": "execute_result",
          "data": {
            "text/plain": [
              "H    48684\n",
              "A    25046\n",
              "N     8311\n",
              "Name: WLoc, dtype: int64"
            ]
          },
          "metadata": {
            "tags": []
          },
          "execution_count": 9
        }
      ]
    },
    {
      "cell_type": "markdown",
      "metadata": {
        "id": "VogLcAtJ_rPz",
        "colab_type": "text"
      },
      "source": [
        "Based on these results, we can observe that there are no **missing values** in the dataset.\n",
        " It should be noted that if there were missing values in the column we would either drop them or fill them in. This is because some of the techniques in the data exploratory will not allow for missing data.\n"
      ]
    },
    {
      "cell_type": "markdown",
      "metadata": {
        "id": "grXlKpGFo7jL",
        "colab_type": "text"
      },
      "source": [
        "# Exploratory Data Analysis\n",
        "\n",
        "Following the data wrangling of the data, the next step is to interrogate the dataset and ask a series of questions of the dataset. These questions will help identify the contributing factors affecting home games winning matches. The questions being asked of the data are :\n",
        "\n",
        "* Does a winning team score more points when playing at home, than when playing at either a neutral ground or an away ground?\n",
        "* Does a losing team score more points when playing at home, than when playing at either a neutral ground or an away ground?\n",
        "* What is the difference in amount of matches a team wins either home, away or at a neutral location?\n",
        "* What is the average variation in points scored for the winning team per season?\n",
        "* What is the average variation in three-points scored by the winning team when playing at home, away or a neutral location per season?\n",
        "* What is the average turnover by the winning team when playing at home, away or a neutral location per season?\n",
        "* What is the ranking of the top 15 teams based on the winning percentage per season for seasons 2002-2019?\n",
        "* What is the ranking of the top 15 teams based on the winning percentage per season for seasons 1985-2019?\n"
      ]
    },
    {
      "cell_type": "markdown",
      "metadata": {
        "id": "MfhV8xdTpGyg",
        "colab_type": "text"
      },
      "source": [
        "__1.Does a winning team score more points when playing at home, than when playing at either a neutral ground or an away ground?__"
      ]
    },
    {
      "cell_type": "code",
      "metadata": {
        "id": "K1FUs-w_pTKP",
        "colab_type": "code",
        "colab": {
          "base_uri": "https://localhost:8080/",
          "height": 898
        },
        "outputId": "a14eb247-54a9-47a0-80b1-8deb1ae6345d"
      },
      "source": [
        "fig,ax1 = plt.subplots(1,1)\n",
        "fig.set_size_inches(10,7)\n",
        "capstone_plot= sns.boxplot(data = capstone, x= 'WLoc',y ='WScore')\n",
        "ax1.set_title(\"Points Distribution for seasons 2005 - 2019\")\n",
        "ax1.set_xticklabels(['Neutral Ground',\"Home Ground\",\"Away Ground\" ])\n",
        "ax1.set_ylabel('Points Scored by Winning team')\n",
        "plt.show()\n",
        "\n",
        "fig,ax1 = plt.subplots(1,1)\n",
        "fig.set_size_inches(10,7)\n",
        "capstone_plot= sns.boxplot(data = capstone2, x= 'WLoc',y ='WScore')\n",
        "ax1.set_title(\"Points Distribution for seasons 1985 - 2019\")\n",
        "ax1.set_xticklabels(['Neutral Ground',\"Home Ground\",\"Away Ground\" ])\n",
        "ax1.set_ylabel('Points Scored by Winning team')\n",
        "plt.show()"
      ],
      "execution_count": 10,
      "outputs": [
        {
          "output_type": "display_data",
          "data": {
            "image/png": "[encoded data removed]",
            "text/plain": [
              "<Figure size 720x504 with 1 Axes>"
            ]
          },
          "metadata": {
            "tags": [],
            "needs_background": "light"
          }
        },
        {
          "output_type": "display_data",
          "data": {
            "image/png": "[encoded data removed]",
            "text/plain": [
              "<Figure size 720x504 with 1 Axes>"
            ]
          },
          "metadata": {
            "tags": [],
            "needs_background": "light"
          }
        }
      ]
    },
    {
      "cell_type": "markdown",
      "metadata": {
        "id": "An6R_4Re1FgP",
        "colab_type": "text"
      },
      "source": [
        "\n",
        "The box plots show that the average number of points for the winning team at their home ground is higher than the points scored when playing at either away or neutral grounds. This result will be further investigated in the statistical portion of the report. This box plot confirms the phenomenon of home advantage being present for home teams."
      ]
    },
    {
      "cell_type": "markdown",
      "metadata": {
        "id": "gtVPetzz7qgf",
        "colab_type": "text"
      },
      "source": [
        "__2.Does a losing team score more points when playing at home than when playing at either a neutral ground or an away ground?__"
      ]
    },
    {
      "cell_type": "code",
      "metadata": {
        "id": "E9gTp-Wg7_rY",
        "colab_type": "code",
        "colab": {
          "base_uri": "https://localhost:8080/",
          "height": 898
        },
        "outputId": "085ce4a8-798f-49fe-e3fe-8adc7b39c1ce"
      },
      "source": [
        "# Code 9: Box Plot - points scored by losing team at playing locations\n",
        "fig,ax1 = plt.subplots(1,1)\n",
        "fig.set_size_inches(10,7)\n",
        "\n",
        "capstone_plot= sns.boxplot(data = capstone, x= 'WLoc',y ='LScore')\n",
        "\n",
        "ax1.set_title(\"Points Distribution for seasons 2003 - 2019\")\n",
        "ax1.set_xticklabels(['Neutral Ground',\"Home Ground\",\"Away Ground\" ])\n",
        "ax1.set_ylabel('Points Scored by Losing team')\n",
        "plt.show()\n",
        "\n",
        "fig,ax1 = plt.subplots(1,1)\n",
        "fig.set_size_inches(10,7)\n",
        "\n",
        "capstone_plot= sns.boxplot(data = capstone2, x= 'WLoc',y ='LScore')\n",
        "\n",
        "ax1.set_title(\"Points Distribution for seasons 1985 - 2019\")\n",
        "ax1.set_xticklabels(['Neutral Ground',\"Home Ground\",\"Away Ground\" ])\n",
        "ax1.set_ylabel('Points Scored by Losing team')\n",
        "plt.show()"
      ],
      "execution_count": 11,
      "outputs": [
        {
          "output_type": "display_data",
          "data": {
            "image/png": "[encoded data removed]",
            "text/plain": [
              "<Figure size 720x504 with 1 Axes>"
            ]
          },
          "metadata": {
            "tags": [],
            "needs_background": "light"
          }
        },
        {
          "output_type": "display_data",
          "data": {
            "image/png": "[encoded data removed]",
            "text/plain": [
              "<Figure size 720x504 with 1 Axes>"
            ]
          },
          "metadata": {
            "tags": [],
            "needs_background": "light"
          }
        }
      ]
    },
    {
      "cell_type": "markdown",
      "metadata": {
        "id": "3EaPFvRC8U-h",
        "colab_type": "text"
      },
      "source": [
        "The plots seem to show that the losing teams score more points when playing at an away ground versus when playing at their neutral or home ground. However, there seems to be no difference to the average number of points scored by the losing team when playing in either of the neutral or home locations.\n"
      ]
    },
    {
      "cell_type": "markdown",
      "metadata": {
        "id": "nY_t56Au8qkA",
        "colab_type": "text"
      },
      "source": [
        "\n",
        "__3.What is the difference in amount of matches a team wins either home, away or at a neutral location?__"
      ]
    },
    {
      "cell_type": "code",
      "metadata": {
        "id": "CBLoy6Cy81lw",
        "colab_type": "code",
        "colab": {
          "base_uri": "https://localhost:8080/",
          "height": 141
        },
        "outputId": "abfc3fcd-d9de-4a5a-b67e-602745376b9e"
      },
      "source": [
        "pd.DataFrame(capstone.WLoc.value_counts())"
      ],
      "execution_count": 12,
      "outputs": [
        {
          "output_type": "execute_result",
          "data": {
            "text/html": [
              "<div>\n",
              "<style scoped>\n",
              "    .dataframe tbody tr th:only-of-type {\n",
              "        vertical-align: middle;\n",
              "    }\n",
              "\n",
              "    .dataframe tbody tr th {\n",
              "        vertical-align: top;\n",
              "    }\n",
              "\n",
              "    .dataframe thead th {\n",
              "        text-align: right;\n",
              "    }\n",
              "</style>\n",
              "<table border=\"1\" class=\"dataframe\">\n",
              "  <thead>\n",
              "    <tr style=\"text-align: right;\">\n",
              "      <th></th>\n",
              "      <th>WLoc</th>\n",
              "    </tr>\n",
              "  </thead>\n",
              "  <tbody>\n",
              "    <tr>\n",
              "      <th>H</th>\n",
              "      <td>48684</td>\n",
              "    </tr>\n",
              "    <tr>\n",
              "      <th>A</th>\n",
              "      <td>25046</td>\n",
              "    </tr>\n",
              "    <tr>\n",
              "      <th>N</th>\n",
              "      <td>8311</td>\n",
              "    </tr>\n",
              "  </tbody>\n",
              "</table>\n",
              "</div>"
            ],
            "text/plain": [
              "    WLoc\n",
              "H  48684\n",
              "A  25046\n",
              "N   8311"
            ]
          },
          "metadata": {
            "tags": []
          },
          "execution_count": 12
        }
      ]
    },
    {
      "cell_type": "code",
      "metadata": {
        "id": "zUeAiAci9XGG",
        "colab_type": "code",
        "colab": {
          "base_uri": "https://localhost:8080/",
          "height": 621
        },
        "outputId": "ffdb0e80-34a9-4bd7-b05d-cac880466500"
      },
      "source": [
        "plt.figure(figsize=(10,10))\n",
        "sns.countplot(y = capstone[\"Season\"],hue=capstone[\"WLoc\"],\n",
        "              palette=[\"r\",\"g\",\"b\",\"c\",\"lime\",\"m\",\"y\",\"k\",\"gold\",\"orange\"])\n",
        "plt.title(\"Matches Played Per Season for seasons 2003 - 2019\")\n",
        "plt.show()\n"
      ],
      "execution_count": 13,
      "outputs": [
        {
          "output_type": "display_data",
          "data": {
            "image/png": "[encoded data removed]",
            "text/plain": [
              "<Figure size 720x720 with 1 Axes>"
            ]
          },
          "metadata": {
            "tags": [],
            "needs_background": "light"
          }
        }
      ]
    },
    {
      "cell_type": "code",
      "metadata": {
        "id": "kr4FLHaHCXwQ",
        "colab_type": "code",
        "colab": {
          "base_uri": "https://localhost:8080/",
          "height": 621
        },
        "outputId": "fcd37166-9eb4-4e30-eaad-776523c0b4f0"
      },
      "source": [
        "plt.figure(figsize=(10,10))\n",
        "sns.countplot(y = capstone2[\"Season\"],hue=capstone2[\"WLoc\"],\n",
        "              palette=[\"r\",\"g\",\"b\",\"c\",\"lime\",\"m\",\"y\",\"k\",\"gold\",\"orange\"])\n",
        "plt.title(\"Matches Played Per Season for seasons 1985 - 2019\")\n",
        "plt.show()"
      ],
      "execution_count": 14,
      "outputs": [
        {
          "output_type": "display_data",
          "data": {
            "image/png": "[encoded data removed]",
            "text/plain": [
              "<Figure size 720x720 with 1 Axes>"
            ]
          },
          "metadata": {
            "tags": [],
            "needs_background": "light"
          }
        }
      ]
    },
    {
      "cell_type": "markdown",
      "metadata": {
        "id": "bsKistvA9pLF",
        "colab_type": "text"
      },
      "source": [
        "\n",
        "The proportion of all games won at home, away and in a neutral ground were all similar across all seasons.The graphs also show that more matches were played at home than at away and neutral locations in a given season.\n"
      ]
    },
    {
      "cell_type": "markdown",
      "metadata": {
        "id": "enzS51T-_Gk6",
        "colab_type": "text"
      },
      "source": [
        "\n",
        "__4.What is the average variation in points scored for the winning team per season?__"
      ]
    },
    {
      "cell_type": "code",
      "metadata": {
        "id": "IOLQyVGE2FjM",
        "colab_type": "code",
        "colab": {
          "base_uri": "https://localhost:8080/",
          "height": 300
        },
        "outputId": "01b03a4e-2bf1-488f-827d-e6e6ff92dacf"
      },
      "source": [
        "Home = capstone2[capstone2.WLoc == 'H']\n",
        "Away = capstone2[capstone2.WLoc == 'A']\n",
        "Neutral = capstone2[capstone2.WLoc == 'N']\n",
        "AvgH=Home.groupby(\"Season\").WScore.mean()\n",
        "\n",
        "AvgA=Away.groupby(\"Season\").WScore.mean()\n",
        "\n",
        "AvgN=Neutral.groupby(\"Season\").WScore.mean()\n",
        "\n",
        "A=plt.plot(AvgH.index,AvgH)\n",
        "B=plt.plot(AvgA.index,AvgA)\n",
        "C=plt.plot(AvgN.index,AvgN)\n",
        "\n",
        "plt.xlabel('Season')\n",
        "plt.ylabel('Points Scored per Season')\n",
        "plt.title(' Points Scored per winning team from 1985-2019', size=20)\n",
        "plt.legend([\"Home\", \"Away\",\"Neutral\"],loc=0)\n",
        "plt.show()"
      ],
      "execution_count": 15,
      "outputs": [
        {
          "output_type": "display_data",
          "data": {
            "image/png": "[encoded data removed]",
            "text/plain": [
              "<Figure size 432x288 with 1 Axes>"
            ]
          },
          "metadata": {
            "tags": [],
            "needs_background": "light"
          }
        }
      ]
    },
    {
      "cell_type": "code",
      "metadata": {
        "id": "AItibguX-omv",
        "colab_type": "code",
        "colab": {
          "base_uri": "https://localhost:8080/",
          "height": 300
        },
        "outputId": "8311e7e6-573c-4ec3-fee7-0c5fb0383d0e"
      },
      "source": [
        "Home = capstone[capstone.WLoc == 'H']\n",
        "Away = capstone[capstone.WLoc == 'A']\n",
        "Neutral = capstone[capstone.WLoc == 'N']\n",
        "AvgH=Home.groupby(\"Season\").WScore.mean()\n",
        "\n",
        "AvgA=Away.groupby(\"Season\").WScore.mean()\n",
        "\n",
        "AvgN=Neutral.groupby(\"Season\").WScore.mean()\n",
        "\n",
        "A=plt.plot(AvgH.index,AvgH)\n",
        "B=plt.plot(AvgA.index,AvgA)\n",
        "C=plt.plot(AvgN.index,AvgN)\n",
        "\n",
        "plt.xlabel('Season')\n",
        "plt.ylabel('Points Scored per Season')\n",
        "plt.title(' Points Scored per winning team from 2003-2019', size=20)\n",
        "plt.legend([\"Home\", \"Away\",\"Neutral\"],loc=0)\n",
        "plt.show()"
      ],
      "execution_count": 16,
      "outputs": [
        {
          "output_type": "display_data",
          "data": {
            "image/png": "[encoded data removed]",
            "text/plain": [
              "<Figure size 432x288 with 1 Axes>"
            ]
          },
          "metadata": {
            "tags": [],
            "needs_background": "light"
          }
        }
      ]
    },
    {
      "cell_type": "markdown",
      "metadata": {
        "id": "fbAqGr60AC2_",
        "colab_type": "text"
      },
      "source": [
        "For all seasons the number of points scored by the winning team while playing at home is greater than points scored when playing at an away or a neutral location.  The data also shows that from 2015 there is a general upward trend in the points scored per season. Some suggestions for the uptick in scoring are that maybe teams are becoming more efficient in scoring, or it could also be that the rules of basketball have changed to favor the scoring team. Another observation from this analysis is that in 2015 there was a dip in scoring in all locations. This observation would require further investigation as to why there was a specific drop in scoring this particular year."
      ]
    },
    {
      "cell_type": "markdown",
      "metadata": {
        "id": "5HAHLYiTAG7G",
        "colab_type": "text"
      },
      "source": [
        "\n",
        "__5.What is the average variation in three-pointers scored by the winning team when playing at home, away or a neutral location per season?__"
      ]
    },
    {
      "cell_type": "code",
      "metadata": {
        "id": "HNJ1JPZ9LANv",
        "colab_type": "code",
        "colab": {
          "base_uri": "https://localhost:8080/",
          "height": 300
        },
        "outputId": "f5c8a8c0-30ea-4edc-de2e-b743d503ca71"
      },
      "source": [
        "#Code 12: Line Chart - Three-Pointers scored per winning team per season\n",
        "AvgH3=Home.groupby(\"Season\").WFGM3.mean()\n",
        "\n",
        "AvgA3=Away.groupby(\"Season\").WFGM3.mean()\n",
        "\n",
        "AvgN3=Neutral.groupby(\"Season\").WFGM3.mean()\n",
        "\n",
        "A=plt.plot(AvgH3.index,AvgH3)\n",
        "B=plt.plot(AvgA3.index,AvgA3)\n",
        "C=plt.plot(AvgN3.index,AvgN3)\n",
        "\n",
        "plt.xlabel('Season')\n",
        "plt.ylabel('Three-pointers scored per season')\n",
        "plt.title('Three-pointers scored per winning team', size=20)\n",
        "plt.legend([\"Home\", \"Away\",\"Neutral\"],loc=0)\n",
        "plt.show()"
      ],
      "execution_count": 17,
      "outputs": [
        {
          "output_type": "display_data",
          "data": {
            "image/png": "[encoded data removed]",
            "text/plain": [
              "<Figure size 432x288 with 1 Axes>"
            ]
          },
          "metadata": {
            "tags": [],
            "needs_background": "light"
          }
        }
      ]
    },
    {
      "cell_type": "markdown",
      "metadata": {
        "id": "SYxzBW7xLkn4",
        "colab_type": "text"
      },
      "source": [
        "\n",
        "There seems to be a general upward trend in three pointers scored as the years go by.It can also be observed for most seasons the number of three-pointers scored by the winning team while playing at home is greater than three-pointers scored when playing at an away, or a neutral location. Some of the reasons  for this general increase in three-pointers could be the game of basketball is evolving to more teams scoring more three pointers.\n"
      ]
    },
    {
      "cell_type": "markdown",
      "metadata": {
        "id": "f5lXIffGLvHZ",
        "colab_type": "text"
      },
      "source": [
        "__6.What is the average amount of  turnovers per season?__"
      ]
    },
    {
      "cell_type": "code",
      "metadata": {
        "id": "e__rxiqaL-EJ",
        "colab_type": "code",
        "colab": {
          "base_uri": "https://localhost:8080/",
          "height": 300
        },
        "outputId": "5210f28b-5f5f-4fe3-edab-7f52863b8dc0"
      },
      "source": [
        "AvgHTO=Home.groupby(\"Season\").WTO.mean()\n",
        "\n",
        "AvgATO=Away.groupby(\"Season\").WTO.mean()\n",
        "\n",
        "AvgNTO=Neutral.groupby(\"Season\").WTO.mean()\n",
        "\n",
        "ATO=plt.plot(AvgHTO.index,AvgHTO)\n",
        "BTO=plt.plot(AvgATO.index,AvgATO)\n",
        "CTO=plt.plot(AvgNTO.index,AvgNTO)\n",
        "\n",
        "\n",
        "plt.xlabel('Season Progression')\n",
        "plt.ylabel('Turnover per season')\n",
        "plt.title(' Turnover per winning team', size=20)\n",
        "plt.legend([\"Home\", \"Away\",\"Neutral\"],loc=0)\n",
        "plt.show()"
      ],
      "execution_count": 18,
      "outputs": [
        {
          "output_type": "display_data",
          "data": {
            "image/png": "[encoded data removed]",
            "text/plain": [
              "<Figure size 432x288 with 1 Axes>"
            ]
          },
          "metadata": {
            "tags": [],
            "needs_background": "light"
          }
        }
      ]
    },
    {
      "cell_type": "markdown",
      "metadata": {
        "id": "SpcDZuWXMKoy",
        "colab_type": "text"
      },
      "source": [
        "For all seasons the number of turnovers conceded while playing at an away location for the winning team is greater than turnovers conceded when playing at an home or a neutral location. There also seems to be a decrease in number of turnovers through the years."
      ]
    },
    {
      "cell_type": "markdown",
      "metadata": {
        "id": "tfW9DfFrMT0N",
        "colab_type": "text"
      },
      "source": [
        "__7.What is the ranking of the top 15 teams based on the winning percentage per season? Winning Percentage is defined as (matches won/total matches played *100) from 2012-2019__"
      ]
    },
    {
      "cell_type": "code",
      "metadata": {
        "id": "mPtw7UfsMxNR",
        "colab_type": "code",
        "colab": {
          "base_uri": "https://localhost:8080/",
          "height": 509
        },
        "outputId": "139594ea-fc62-4fad-fc6a-f4dcf2e3582f"
      },
      "source": [
        "# Matches Played by Teams\n",
        "# The first thing to do is to associate TeamID to the name of the team. \n",
        "#This will help us put a name to the team\n",
        "dic = {}\n",
        "for i in range(0,len(cap[\"TeamID\"])):\n",
        "    dic[cap[\"TeamID\"][i]]=cap['TeamNameSpelling'][i]\n",
        "capstone[\"WTeamName\"]=[dic[teamid] for teamid in capstone['WTeamID']]\n",
        "capstone[\"LTeamName\"]=[dic[teamid] for teamid in capstone['LTeamID']]\n",
        "w=pd.DataFrame(capstone[\"WTeamName\"].value_counts())\n",
        "l=pd.DataFrame(capstone[\"LTeamName\"].value_counts())\n",
        "Winning_teams = w.rename(columns={\"WTeamName\":\"Matches Played\"})\n",
        "Winning_teams[:15]"
      ],
      "execution_count": 19,
      "outputs": [
        {
          "output_type": "execute_result",
          "data": {
            "text/html": [
              "<div>\n",
              "<style scoped>\n",
              "    .dataframe tbody tr th:only-of-type {\n",
              "        vertical-align: middle;\n",
              "    }\n",
              "\n",
              "    .dataframe tbody tr th {\n",
              "        vertical-align: top;\n",
              "    }\n",
              "\n",
              "    .dataframe thead th {\n",
              "        text-align: right;\n",
              "    }\n",
              "</style>\n",
              "<table border=\"1\" class=\"dataframe\">\n",
              "  <thead>\n",
              "    <tr style=\"text-align: right;\">\n",
              "      <th></th>\n",
              "      <th>Matches Played</th>\n",
              "    </tr>\n",
              "  </thead>\n",
              "  <tbody>\n",
              "    <tr>\n",
              "      <th>kansas</th>\n",
              "      <td>429</td>\n",
              "    </tr>\n",
              "    <tr>\n",
              "      <th>duke</th>\n",
              "      <td>427</td>\n",
              "    </tr>\n",
              "    <tr>\n",
              "      <th>gonzaga</th>\n",
              "      <td>423</td>\n",
              "    </tr>\n",
              "    <tr>\n",
              "      <th>kentucky</th>\n",
              "      <td>407</td>\n",
              "    </tr>\n",
              "    <tr>\n",
              "      <th>unc</th>\n",
              "      <td>391</td>\n",
              "    </tr>\n",
              "    <tr>\n",
              "      <th>memphis</th>\n",
              "      <td>390</td>\n",
              "    </tr>\n",
              "    <tr>\n",
              "      <th>louisville</th>\n",
              "      <td>383</td>\n",
              "    </tr>\n",
              "    <tr>\n",
              "      <th>arizona</th>\n",
              "      <td>382</td>\n",
              "    </tr>\n",
              "    <tr>\n",
              "      <th>wisconsin</th>\n",
              "      <td>374</td>\n",
              "    </tr>\n",
              "    <tr>\n",
              "      <th>florida</th>\n",
              "      <td>374</td>\n",
              "    </tr>\n",
              "    <tr>\n",
              "      <th>syracuse</th>\n",
              "      <td>374</td>\n",
              "    </tr>\n",
              "    <tr>\n",
              "      <th>virginia-commonwealth</th>\n",
              "      <td>373</td>\n",
              "    </tr>\n",
              "    <tr>\n",
              "      <th>michigan-state</th>\n",
              "      <td>372</td>\n",
              "    </tr>\n",
              "    <tr>\n",
              "      <th>villanova</th>\n",
              "      <td>371</td>\n",
              "    </tr>\n",
              "    <tr>\n",
              "      <th>ohio-state</th>\n",
              "      <td>368</td>\n",
              "    </tr>\n",
              "  </tbody>\n",
              "</table>\n",
              "</div>"
            ],
            "text/plain": [
              "                       Matches Played\n",
              "kansas                            429\n",
              "duke                              427\n",
              "gonzaga                           423\n",
              "kentucky                          407\n",
              "unc                               391\n",
              "memphis                           390\n",
              "louisville                        383\n",
              "arizona                           382\n",
              "wisconsin                         374\n",
              "florida                           374\n",
              "syracuse                          374\n",
              "virginia-commonwealth             373\n",
              "michigan-state                    372\n",
              "villanova                         371\n",
              "ohio-state                        368"
            ]
          },
          "metadata": {
            "tags": []
          },
          "execution_count": 19
        }
      ]
    },
    {
      "cell_type": "code",
      "metadata": {
        "id": "G6AVdDtTPFZb",
        "colab_type": "code",
        "colab": {}
      },
      "source": [
        "pc_dict={team:w.loc[team][0]/(l.loc[team][0]+w.loc[team][0]) * 100 for team in w.index}"
      ],
      "execution_count": 0,
      "outputs": []
    },
    {
      "cell_type": "code",
      "metadata": {
        "id": "VVU4xwAJPHM6",
        "colab_type": "code",
        "colab": {
          "base_uri": "https://localhost:8080/",
          "height": 297
        },
        "outputId": "a515aa2b-3036-4de0-c47f-40b5f23d7a2c"
      },
      "source": [
        "pc_dict_counter =Counter(pc_dict)\n",
        "team=[]\n",
        "percentage=[]\n",
        "for item in pc_dict_counter.most_common(15):\n",
        "    team.append(item[0])\n",
        "    percentage.append(item[1])\n",
        "\n",
        "team.reverse()\n",
        "percentage.reverse()\n",
        "plt.barh(team,percentage)\n",
        "plt.title(\"Top 15 teams ranked by Win Percentage\")\n",
        "plt.ylabel(\"Team\")\n",
        "plt.xlabel(\"Percentages\")\n",
        "plt.tight_layout()\n",
        "plt.show()"
      ],
      "execution_count": 21,
      "outputs": [
        {
          "output_type": "display_data",
          "data": {
            "image/png": "[encoded data removed]",
            "text/plain": [
              "<Figure size 432x288 with 1 Axes>"
            ]
          },
          "metadata": {
            "tags": [],
            "needs_background": "light"
          }
        }
      ]
    },
    {
      "cell_type": "markdown",
      "metadata": {
        "id": "qBpzL7V-PWN8",
        "colab_type": "text"
      },
      "source": [
        "The team with the highest win percentage is Gonzaga from 2012 -2019"
      ]
    },
    {
      "cell_type": "markdown",
      "metadata": {
        "id": "3sdRgnE24Akp",
        "colab_type": "text"
      },
      "source": [
        "__8.What is the ranking of the top 15 teams based on the winning percentage per season? Winning Percentage is defined as (matches won/total matches played *100) from 2012-2019__"
      ]
    },
    {
      "cell_type": "code",
      "metadata": {
        "id": "z5j9dJ5w38cK",
        "colab_type": "code",
        "colab": {
          "base_uri": "https://localhost:8080/",
          "height": 509
        },
        "outputId": "0b7e0683-0aa5-4cb4-fab3-16aa9d18b89f"
      },
      "source": [
        "# Matches Played by Teams\n",
        "# The first thing to do is to associate TeamID to the name of the team. \n",
        "#This will help us put a name to the team\n",
        "dic = {}\n",
        "for i in range(0,len(cap[\"TeamID\"])):\n",
        "    dic[cap[\"TeamID\"][i]]=cap['TeamNameSpelling'][i]\n",
        "capstone2[\"WTeamName\"]=[dic[teamid] for teamid in capstone2['WTeamID']]\n",
        "capstone2[\"LTeamName\"]=[dic[teamid] for teamid in capstone2['LTeamID']]\n",
        "w=pd.DataFrame(capstone2[\"WTeamName\"].value_counts())\n",
        "l=pd.DataFrame(capstone2[\"LTeamName\"].value_counts())\n",
        "Winning_teams = w.rename(columns={\"WTeamName\":\"Matches Played\"})\n",
        "Winning_teams[:15]"
      ],
      "execution_count": 22,
      "outputs": [
        {
          "output_type": "execute_result",
          "data": {
            "text/html": [
              "<div>\n",
              "<style scoped>\n",
              "    .dataframe tbody tr th:only-of-type {\n",
              "        vertical-align: middle;\n",
              "    }\n",
              "\n",
              "    .dataframe tbody tr th {\n",
              "        vertical-align: top;\n",
              "    }\n",
              "\n",
              "    .dataframe thead th {\n",
              "        text-align: right;\n",
              "    }\n",
              "</style>\n",
              "<table border=\"1\" class=\"dataframe\">\n",
              "  <thead>\n",
              "    <tr style=\"text-align: right;\">\n",
              "      <th></th>\n",
              "      <th>Matches Played</th>\n",
              "    </tr>\n",
              "  </thead>\n",
              "  <tbody>\n",
              "    <tr>\n",
              "      <th>duke</th>\n",
              "      <td>872</td>\n",
              "    </tr>\n",
              "    <tr>\n",
              "      <th>kansas</th>\n",
              "      <td>859</td>\n",
              "    </tr>\n",
              "    <tr>\n",
              "      <th>kentucky</th>\n",
              "      <td>818</td>\n",
              "    </tr>\n",
              "    <tr>\n",
              "      <th>unc</th>\n",
              "      <td>812</td>\n",
              "    </tr>\n",
              "    <tr>\n",
              "      <th>arizona</th>\n",
              "      <td>803</td>\n",
              "    </tr>\n",
              "    <tr>\n",
              "      <th>syracuse</th>\n",
              "      <td>776</td>\n",
              "    </tr>\n",
              "    <tr>\n",
              "      <th>memphis</th>\n",
              "      <td>732</td>\n",
              "    </tr>\n",
              "    <tr>\n",
              "      <th>xavier</th>\n",
              "      <td>730</td>\n",
              "    </tr>\n",
              "    <tr>\n",
              "      <th>louisville</th>\n",
              "      <td>726</td>\n",
              "    </tr>\n",
              "    <tr>\n",
              "      <th>gonzaga</th>\n",
              "      <td>725</td>\n",
              "    </tr>\n",
              "    <tr>\n",
              "      <th>unlv</th>\n",
              "      <td>716</td>\n",
              "    </tr>\n",
              "    <tr>\n",
              "      <th>michigan-state</th>\n",
              "      <td>715</td>\n",
              "    </tr>\n",
              "    <tr>\n",
              "      <th>cincinnati</th>\n",
              "      <td>711</td>\n",
              "    </tr>\n",
              "    <tr>\n",
              "      <th>uconn</th>\n",
              "      <td>708</td>\n",
              "    </tr>\n",
              "    <tr>\n",
              "      <th>ucla</th>\n",
              "      <td>705</td>\n",
              "    </tr>\n",
              "  </tbody>\n",
              "</table>\n",
              "</div>"
            ],
            "text/plain": [
              "                Matches Played\n",
              "duke                       872\n",
              "kansas                     859\n",
              "kentucky                   818\n",
              "unc                        812\n",
              "arizona                    803\n",
              "syracuse                   776\n",
              "memphis                    732\n",
              "xavier                     730\n",
              "louisville                 726\n",
              "gonzaga                    725\n",
              "unlv                       716\n",
              "michigan-state             715\n",
              "cincinnati                 711\n",
              "uconn                      708\n",
              "ucla                       705"
            ]
          },
          "metadata": {
            "tags": []
          },
          "execution_count": 22
        }
      ]
    },
    {
      "cell_type": "code",
      "metadata": {
        "id": "9FdhTs2m38mS",
        "colab_type": "code",
        "colab": {}
      },
      "source": [
        "pc_dict={team:w.loc[team][0]/(l.loc[team][0]+w.loc[team][0]) * 100 for team in w.index}"
      ],
      "execution_count": 0,
      "outputs": []
    },
    {
      "cell_type": "code",
      "metadata": {
        "id": "AZTt8XQY38wZ",
        "colab_type": "code",
        "colab": {
          "base_uri": "https://localhost:8080/",
          "height": 297
        },
        "outputId": "48d3ab27-b511-499e-950a-6086f946d54f"
      },
      "source": [
        "pc_dict_counter =Counter(pc_dict)\n",
        "team=[]\n",
        "percentage=[]\n",
        "for item in pc_dict_counter.most_common(15):\n",
        "    team.append(item[0])\n",
        "    percentage.append(item[1])\n",
        "\n",
        "team.reverse()\n",
        "percentage.reverse()\n",
        "plt.barh(team,percentage)\n",
        "plt.title(\"Top 15 teams ranked by Win Percentage\")\n",
        "plt.ylabel(\"Team\")\n",
        "plt.xlabel(\"Percentages\")\n",
        "plt.tight_layout()\n",
        "plt.show()"
      ],
      "execution_count": 24,
      "outputs": [
        {
          "output_type": "display_data",
          "data": {
            "image/png": "[encoded data removed]",
            "text/plain": [
              "<Figure size 432x288 with 1 Axes>"
            ]
          },
          "metadata": {
            "tags": [],
            "needs_background": "light"
          }
        }
      ]
    },
    {
      "cell_type": "markdown",
      "metadata": {
        "id": "rXbtdv59SFBu",
        "colab_type": "text"
      },
      "source": [
        "# Data Statistics\n",
        "Upon exploration of the data and making initial observations about the  data, the next step will be to  find out whether there are any correlations within the in game statistics, and also confirm whether our initial observations were statistically significant. The questions that will be asked of the data will be:\n",
        "1. Is the difference between a team winning college basketball matches at home locations statistically significant from when playing at away or a neutral location? This question will be answered with the aid of an ANOVA (Analysis of Variance) test, followed by a pairwise Tukey HSD correlation.\n",
        "2. Is there a correlation between the game by game data for a winning team? A heat map analysis will be conducted on the data to find correlations between the game by game data.The correlation matrix from the heat data will show the correlations that exist between in game statistics during the season.\n",
        "3. What is the 95% confidence interval for the difference between the standard deviations of the winning scores for the two top performing teams? This analysis will be done with a bootstrap sampling analysis, calculating these differences over 10000 replicates. The teams being considered will be Gonzaga and Kansas.\n",
        "\n",
        "\n",
        "\n"
      ]
    },
    {
      "cell_type": "markdown",
      "metadata": {
        "id": "ft-2TTUXSffa",
        "colab_type": "text"
      },
      "source": [
        "__1.Is the difference between a team winning college basketball matches at home locations statistically significant from when playing at away or a neutral location? This question will be answered with the aid of an ANOVA (Analysis of Variance) test, followed by a pairwise Tukey HSD correlation__.\n",
        "\n",
        "When comparing more than three numerical datasets, the best way to preserve a Type I error probability of 0.05 is to use ANOVA. ANOVA (Analysis of Variance) tests the null hypothesis that all of the datasets have the same mean. If we reject the null hypothesis with ANOVA, we’re saying that at least one of the sets has a different mean; however, it does not tell us which datasets are different.\n",
        "We can use the SciPy function f_oneway to perform ANOVA on multiple datasets of winning scores of teams playing in home, away and neutral locations. The f_oneway function takes in each dataset as a different input and returns the t-statistic and the p-value."
      ]
    },
    {
      "cell_type": "code",
      "metadata": {
        "id": "hfgz2SnHSr3R",
        "colab_type": "code",
        "colab": {}
      },
      "source": [
        "#Code 15: ANOVA test & Tukey HSD\n",
        "Home=capstone.loc[lambda dfH: dfH['WLoc'] == \"H\", :]\n",
        "Away=capstone.loc[lambda dfH: dfH['WLoc'] == \"A\", :]\n",
        "Neutral=capstone.loc[lambda dfN: dfN['WLoc'] == \"N\", :]\n",
        "\n"
      ],
      "execution_count": 0,
      "outputs": []
    },
    {
      "cell_type": "markdown",
      "metadata": {
        "id": "RrN6SKMgTxlt",
        "colab_type": "text"
      },
      "source": [
        "When comparing more than two numerical datasets, the best way to preserve a Type I error probability of 0.05 is to use ANOVA. ANOVA (Analysis of Variance) tests the null hypothesis that all of the datasets have the same mean. If we reject the null hypothesis with ANOVA, we’re saying that at least one of the sets has a different mean; however, it does not tell us which datasets are different."
      ]
    },
    {
      "cell_type": "code",
      "metadata": {
        "id": "IeSIN-a-Xv_G",
        "colab_type": "code",
        "colab": {}
      },
      "source": [
        "Home_Win_mean=Home[\"WScore\"].mean\n",
        "Away_Win_mean=Away[\"WScore\"].mean\n",
        "Neutral_Win_mean=Neutral[\"WScore\"].mean\n",
        "\n",
        "a=Home[\"WScore\"]\n",
        "b=Away[\"WScore\"]\n",
        "c=Neutral[\"WScore\"]"
      ],
      "execution_count": 0,
      "outputs": []
    },
    {
      "cell_type": "markdown",
      "metadata": {
        "id": "1lRUESWRX-Zc",
        "colab_type": "text"
      },
      "source": [
        "We can use the SciPy function f_oneway to perform ANOVA on multiple datasets. It takes in each dataset as a different input and returns the t-statistic and the p-value."
      ]
    },
    {
      "cell_type": "code",
      "metadata": {
        "id": "as_2gdYAYCE1",
        "colab_type": "code",
        "colab": {
          "base_uri": "https://localhost:8080/",
          "height": 34
        },
        "outputId": "73e23e35-2786-40be-e098-0bbcf8c8076b"
      },
      "source": [
        "from scipy.stats import f_oneway,ttest_ind,ttest_1samp, stats\n",
        "fstat, pval = f_oneway(a, b, c)\n",
        "print (pval)"
      ],
      "execution_count": 27,
      "outputs": [
        {
          "output_type": "stream",
          "text": [
            "4.602940056163357e-212\n"
          ],
          "name": "stdout"
        }
      ]
    },
    {
      "cell_type": "markdown",
      "metadata": {
        "id": "7zn58x_pYJpx",
        "colab_type": "text"
      },
      "source": [
        "The null hypothesis, in this case, is that all three populations have the same mean score on this videogame. We will reject this null hypothesis (since we are getting a p-value less than 0.05), we are reasonably confident that a pair of datasets is significantly different. After using only ANOVA, we can’t make any conclusions on which two populations between the Home, Away and Neutral locations have a significant difference."
      ]
    },
    {
      "cell_type": "code",
      "metadata": {
        "id": "lRToCJc0YOSo",
        "colab_type": "code",
        "colab": {
          "base_uri": "https://localhost:8080/",
          "height": 156
        },
        "outputId": "38f53e0b-7760-453b-c875-352ec07a543a"
      },
      "source": [
        "# Using our data from ANOVA, we create v and l\n",
        "v = np.concatenate([a, b, c])\n",
        "labels = ['a'] * len(a) + ['b'] * len(b) + ['c'] * len(c)\n",
        "\n",
        "tukey_results= pairwise_tukeyhsd(v, labels, 0.05)\n",
        "\n",
        "print(tukey_results)"
      ],
      "execution_count": 28,
      "outputs": [
        {
          "output_type": "stream",
          "text": [
            "Multiple Comparison of Means - Tukey HSD, FWER=0.05 \n",
            "====================================================\n",
            "group1 group2 meandiff p-adj   lower   upper  reject\n",
            "----------------------------------------------------\n",
            "     a      b  -2.5265  0.001 -2.7284 -2.3247   True\n",
            "     a      c   -2.253  0.001  -2.561 -1.9449   True\n",
            "     b      c   0.2736 0.1247  -0.055  0.6022  False\n",
            "----------------------------------------------------\n"
          ],
          "name": "stdout"
        }
      ]
    },
    {
      "cell_type": "markdown",
      "metadata": {
        "id": "jsznHGW8YUYj",
        "colab_type": "text"
      },
      "source": [
        "\n",
        "H0 = all three locations have the same mean score in the basketball game \n",
        "H1 = at least one of the locations have different means  in the basketball game.\n",
        "\n",
        "We will reject this null hypothesis  for the pairs a & b and a & c (since we are getting a p-value less than 0.05).  We are reasonably confident that a pair of datasets is statistically significantly different. After using only ANOVA, we can’t make any conclusions on which two populations between the home, away and neutral locations have a significant difference.\n",
        "There is a significant difference between the pairs home and away games,and the pairs home and neutral games, but there is not a significant difference between the pair away and neutral games.\n"
      ]
    },
    {
      "cell_type": "markdown",
      "metadata": {
        "id": "6uWKLNlTYcr7",
        "colab_type": "text"
      },
      "source": [
        "__2.Is there a correlation between the game by game data for a winning team? A heat map analysis will be conducted on the data to find correlations between the game by game data.The correlation matrix from the heat data will show the correlations that exist between in game statistics during the season.__"
      ]
    },
    {
      "cell_type": "markdown",
      "metadata": {
        "id": "KyL1eZXybGnA",
        "colab_type": "text"
      },
      "source": [
        "In order to find a correlation between variables for the winning team, a heatmap will be created. This heat map will display the r correlation and will also exclude correlations that have a p value less than 0.05"
      ]
    },
    {
      "cell_type": "code",
      "metadata": {
        "id": "7G5b3uuZn3KV",
        "colab_type": "code",
        "colab": {}
      },
      "source": [
        "import pandas as pd\n",
        "from matplotlib import pyplot as plt\n",
        "from pylab import rcParams\n",
        "rcParams['figure.figsize'] = 7,7 \n",
        "import seaborn as sns\n",
        "import numpy as np\n",
        "sns.set(color_codes=True, font_scale=1.2)\n",
        "\n",
        "%matplotlib inline\n",
        "%config InlineBackend.figure_format = 'retina'\n",
        "%load_ext autoreload\n",
        "%autoreload 2"
      ],
      "execution_count": 0,
      "outputs": []
    },
    {
      "cell_type": "code",
      "metadata": {
        "id": "Qnvw_0yXYnLJ",
        "colab_type": "code",
        "colab": {}
      },
      "source": [
        "capstone_drop=capstone.drop(columns=[\"DayNum\",\"Season\",\"WLoc\",\"WTeamID\",\"LTeamID\",\"LFGM\",\"LFGM3\",\"LFGA3\",\"LFTM\",\"LOR\",\"LDR\",\"LAst\",\"LTO\",\"LStl\",\"LBlk\",\"LPF\",\"LFGA\",\"LFTA\",\"LScore\",\"WTeamName\",\"LTeamName\"])"
      ],
      "execution_count": 0,
      "outputs": []
    },
    {
      "cell_type": "code",
      "metadata": {
        "id": "D75954sb-cZy",
        "colab_type": "code",
        "colab": {}
      },
      "source": [
        "def corr_sig(df=None):\n",
        "    p_matrix = np.zeros(shape=(capstone_drop.shape[1],\n",
        "                               capstone_drop.shape[1]))\n",
        "    for col in df.columns:\n",
        "        for col2 in capstone_drop.drop(col,axis=1).columns:\n",
        "            _ , p = stats.pearsonr(capstone_drop[col],\n",
        "                                   capstone_drop[col2])\n",
        "            p_matrix[capstone_drop.columns.to_list().index(col),\n",
        "                     capstone_drop.columns.to_list().index(col2)] = p\n",
        "    return p_matrix\n",
        "\n",
        "p_values = corr_sig(capstone_drop)\n",
        "mask = np.invert(np.tril(p_values<0.05))\n",
        "\n"
      ],
      "execution_count": 0,
      "outputs": []
    },
    {
      "cell_type": "code",
      "metadata": {
        "id": "5uS0l3wUZDnW",
        "colab_type": "code",
        "colab": {}
      },
      "source": [
        "def corr_sig(df=None):\n",
        "    p_matrix = np.zeros(shape=(capstone_drop.shape[1],\n",
        "                               capstone_drop.shape[1]))\n",
        "    for col in df.columns:\n",
        "        for col2 in capstone_drop.drop(col,axis=1).columns:\n",
        "            _ , p = stats.pearsonr(capstone_drop[col],\n",
        "                                   capstone_drop[col2])\n",
        "            p_matrix[capstone_drop.columns.to_list().index(col),\n",
        "                     capstone_drop.columns.to_list().index(col2)] = p\n",
        "    return p_matrix\n",
        "\n",
        "p_values = corr_sig(capstone_drop)\n",
        "mask = np.invert(np.tril(p_values<0.05))\n"
      ],
      "execution_count": 0,
      "outputs": []
    },
    {
      "cell_type": "code",
      "metadata": {
        "id": "UI7GMmGoZHxp",
        "colab_type": "code",
        "colab": {}
      },
      "source": [
        "def plot_cor_matrix(corr, mask=None):\n",
        "    f, ax = plt.subplots(figsize=(11, 9))\n",
        "    sns.heatmap(corr, ax=ax,\n",
        "                mask=mask,\n",
        "                # cosmetics\n",
        "                annot=True, vmin=-1, vmax=1, center=0,\n",
        "                cmap='coolwarm', linewidths=2, linecolor='black', cbar_kws={'orientation': 'horizontal'})"
      ],
      "execution_count": 0,
      "outputs": []
    },
    {
      "cell_type": "code",
      "metadata": {
        "id": "z-NHfR62ZNob",
        "colab_type": "code",
        "colab": {}
      },
      "source": [
        "\n",
        "# Plotting with significance filter\n",
        "corr = capstone_drop.corr() # get correlation\n",
        "p_values = corr_sig(capstone_drop)   # get p-Value\n",
        "mask = np.invert(np.tril(p_values<0.05))# mask - only get sigificant corrplot_cor_matrix(corr,mask)\n",
        "plot_cor_matrix(corr,mask)"
      ],
      "execution_count": 0,
      "outputs": []
    },
    {
      "cell_type": "markdown",
      "metadata": {
        "id": "cem6BhTzZQPU",
        "colab_type": "text"
      },
      "source": [
        "Orange means positive, blue means negative. The stronger the color, the larger the correlation magnitude. The heatmap was conducted for in game data for the winning team Now looking at the chart above, we can see some strong positive correlations with the winning scores. The data with these strong correlations to the winning scores are: WFGM and WFGA. Other strong positive correlations, with correlation values of 0.9 are WFTA and WFTM"
      ]
    },
    {
      "cell_type": "markdown",
      "metadata": {
        "id": "-BwN94w5bRoz",
        "colab_type": "text"
      },
      "source": [
        "The heatmap was conducted for in-game data  variables for the winning team. In the heat map displayed below orange means positive, and  blue means negative. The stronger the color, the larger the correlation magnitude. "
      ]
    },
    {
      "cell_type": "markdown",
      "metadata": {
        "id": "z_iAPdPObdx5",
        "colab_type": "text"
      },
      "source": [
        "The heatmap represents the collinearity of the multiple variables in the dataset. The .corr() function was used in the code to show the correlation between the values. This is where we want to set our independent or target variable. Our target variable is “WScore”. This is  the number of points scored by the winning team.  We want to find out how all of the other variables affect the points scored by the winning team. In the heatmap, the dark red areas represent a positive correlation, while light blue represents a negative correlation. It is also normal that the darkest areas are a 1:1 ratio since WScore=WScore, NumOT=NumOT, etc.\n",
        "While WScore is still our independent variable, we can see in the map below that there is little to no correlation between the WTO  (-0.018), though a high correlation between WFGM and WAst (0.82, 0.56). these relationships are obvious (assists in a basketball game and field goals made positively correlates with the scores in a match) \n",
        "Features with high correlation are more linearly dependent and hence have almost the same effect on the dependent variable. So, when two features have high correlation, we can drop one of the two features. In order to decide to find which features to drop when we decide to create our machine learning model, we compare the relationship between WFGM and WAst, and we get a correlation number of (0.63). Dropping either of these variables when tuning our eventual machine model should still produce a fairly accurate prediction model.\n",
        "In addition to plotting the correlation coefficients in the heat map, only significant p-value correlations (alpha < .05) were plotted. This was achieved with the def corr_sig function. It can be seen from the plot that the relationship between WFGA3 and WPF was not statistically significant. "
      ]
    },
    {
      "cell_type": "code",
      "metadata": {
        "id": "uBV2ydSkZbFJ",
        "colab_type": "code",
        "colab": {}
      },
      "source": [
        "stats.pearsonr(capstone_drop[\"WPF\"],capstone_drop[\"WFGA3\"])"
      ],
      "execution_count": 0,
      "outputs": []
    },
    {
      "cell_type": "code",
      "metadata": {
        "id": "IGc_2oX3Zm2i",
        "colab_type": "code",
        "colab": {}
      },
      "source": [
        "sns.pairplot(capstone_drop,height=1.5)"
      ],
      "execution_count": 0,
      "outputs": []
    },
    {
      "cell_type": "markdown",
      "metadata": {
        "id": "MKpNnVflbieV",
        "colab_type": "text"
      },
      "source": [
        "A pairs plot allows us to see both the distribution of single variables and relationships between two variables. A scan through of the pairs plot shows variables that are highly correlated with each other. The relationship between (WScore and WFGM), and (WFTA and WFTM) shows a linear correlation between these variables. This positive correlation was also confirmed with the heatmap."
      ]
    },
    {
      "cell_type": "markdown",
      "metadata": {
        "id": "tJ6k7baQZty0",
        "colab_type": "text"
      },
      "source": [
        "__3.What is the 95% confidence interval for the difference between the standard deviations of the winning scores for the two top performing teams?This analysis will be done with a bootstrap sampling analysis, calculating these differences over 10000 replicates. The teams being considered will be Gonzaga and Kansas.__"
      ]
    },
    {
      "cell_type": "markdown",
      "metadata": {
        "id": "F0D4pnOLb3yw",
        "colab_type": "text"
      },
      "source": [
        "A bootstrap method will be used to compare  the means of winning scores of two teams over multiple seasons. The two chosen are Gonzaga and Kansas. These two teams were chosen because they have the highest winning percentages i.e. winning Percentage is defined as (matches won/total matches played *100) . We will proceed by defining both the null and the alternative hypothesis for our calculations\n",
        "\n",
        "H0: there is no difference in standard deviations in the winning scores between Kansas and Gonzaga \n",
        "\n",
        "Ha: there is a difference in standard deviations in the winning scores between Kansas and Gonzaga \n"
      ]
    },
    {
      "cell_type": "code",
      "metadata": {
        "id": "7gDaZl-yZ0qQ",
        "colab_type": "code",
        "colab": {}
      },
      "source": [
        "# Function derived from Data camp Statistical Thinking in Python (part 2):Generating many bootstrap replicates\n",
        "\n",
        "\"\"\"\"Draw bootstrap replicates. \n",
        "    Func refers to the type of statistic we want (np.mean / np.median etc.)\"\"\"\n",
        "\n",
        "def draw_bs_reps(data, func, size=1):\n",
        "    \"\"\"Draw bootstrap replicates.\"\"\"\n",
        "\n",
        "    # Initialize array of replicates: bs_replicates\n",
        "    bs_replicates =  np.empty(size)\n",
        "\n",
        "    # Generate replicates\n",
        "    for i in range(size): \n",
        "        bs_sample = np.random.choice(data, len(data))\n",
        "        bs_replicates[i] = func(bs_sample)  \n",
        "    return bs_replicates"
      ],
      "execution_count": 0,
      "outputs": []
    },
    {
      "cell_type": "code",
      "metadata": {
        "id": "S0Hg1vVbZ813",
        "colab_type": "code",
        "colab": {}
      },
      "source": [
        "# The first thing to do is to associate TeamID to the name of the team. \n",
        "#This will help us put a name to the team\n",
        "dic = {}\n",
        "for i in range(0,len(cap[\"TeamID\"])):\n",
        "    dic[cap[\"TeamID\"][i]]=cap['TeamNameSpelling'][i]\n",
        "capstone[\"WTeamName\"]=[dic[teamid] for teamid in capstone['WTeamID']]\n",
        "capstone[\"LTeamName\"]=[dic[teamid] for teamid in capstone['LTeamID']]\n",
        "# Creating the two subset samples of charges to Gonzaga and Kansas \n",
        "#group in arrays\n",
        "\n",
        "kansas=np.array(capstone[capstone['WTeamName']=='kansas'].WScore)\n",
        "Gonzaga=np.array(capstone[capstone['WTeamName']=='gonzaga'].WScore)\n",
        "\n",
        "# Calculating the difference in standard deviations between \n",
        "#Gonzaga and Kansas winning scores\n",
        "Gonzaga_std = np.std(Gonzaga,ddof=1)\n",
        "kansas_std = np.std(kansas,ddof=1)\n",
        "std_diff = Gonzaga_std - kansas_std"
      ],
      "execution_count": 0,
      "outputs": []
    },
    {
      "cell_type": "code",
      "metadata": {
        "id": "COz9hd2caFFB",
        "colab_type": "code",
        "colab": {}
      },
      "source": [
        "# Using boostrap to test the null hypothesis mentioned above\n",
        "np.random.seed(47)\n",
        "\n",
        "def permutation_sample(data1, data2):\n",
        "    \"\"\"Generate a permutation sample from two data sets.\"\"\"\n",
        "\n",
        "    # Concatenate the data sets: data\n",
        "    data = np.concatenate((data1, data2))\n",
        "\n",
        "    # Permute the concatenated array: permuted_data\n",
        "    permuted_data = np.random.permutation(data)\n",
        "\n",
        "    # Split the permuted array into two: perm_sample_1, perm_sample_2\n",
        "    perm_sample_1 = permuted_data[:len(data1)]\n",
        "    perm_sample_2 = permuted_data[len(data1):]\n",
        "\n",
        "    return perm_sample_1, perm_sample_2\n",
        "\n",
        "# Initializing replicates\n",
        "perm_replicates = np.empty(10000)\n",
        "\n",
        "# Generating replicates\n",
        "for i in range(10000):\n",
        "    perm_sample_1, perm_sample_2 = permutation_sample(Gonzaga, kansas)\n",
        "    perm_replicates[i] = np.std(perm_sample_1) - np.std(perm_sample_2)\n",
        "\n",
        "conf_int_lower = np.percentile(perm_replicates, 2.5)\n",
        "conf_int_upper = np.percentile(perm_replicates, 97.5)\n",
        "p = np.sum(perm_replicates >=std_diff) / len(perm_replicates)\n",
        "\n",
        "print(\"Stardard Deviation: \",std_diff )\n",
        "print(\"p-value =\", p)"
      ],
      "execution_count": 0,
      "outputs": []
    },
    {
      "cell_type": "code",
      "metadata": {
        "id": "IZ5VwSm5aK5V",
        "colab_type": "code",
        "colab": {}
      },
      "source": [
        "np.random.seed(47)\n",
        "\n",
        "# Computing the difference in means\n",
        "mean_diff = np.mean(Gonzaga) - np.mean(kansas)\n",
        "\n",
        "# Concatenating the two samples\n",
        "conc_mean = np.mean(np.concatenate((Gonzaga, kansas)))\n",
        "\n",
        "# Shifting the means of both samples to match the concatenated mean\n",
        "Gonz_shifted = Gonzaga + conc_mean - np.mean(Gonzaga)\n",
        "kansas_shifted = kansas + conc_mean - np.mean(kansas)\n",
        "\n",
        "# Initializing replicates \n",
        "bs_replicates = np.empty(10000)\n",
        "\n",
        "# Generating replicates\n",
        "for i in range(10000):\n",
        "    Gonz_rep = np.random.choice(Gonz_shifted, size=len(Gonzaga))\n",
        "    kansas_rep = np.random.choice(kansas_shifted, size=len(kansas))\n",
        "    bs_replicates[i] = np.mean(Gonz_rep) - np.mean(kansas_rep)\n",
        "\n",
        "# Computing confidence intervals\n",
        "conf_int_lower1 = np.percentile(bs_replicates, 2.5)\n",
        "conf_int_upper1 = np.percentile(bs_replicates, 97.5)\n",
        "# Print the confidence interval\n",
        "print('95% confidence interval =', conf_int_lower1,conf_int_upper1 )"
      ],
      "execution_count": 0,
      "outputs": []
    },
    {
      "cell_type": "code",
      "metadata": {
        "id": "DbW13moFaPTn",
        "colab_type": "code",
        "colab": {}
      },
      "source": [
        "# Draw the bootstrap replicates from the shifted dataset\n",
        "bs_replicates_Gonzaga= draw_bs_reps(Gonz_shifted, np.mean, size=1000)\n",
        "bs_replicates_kansas = draw_bs_reps(kansas_shifted, np.mean, size=1000)"
      ],
      "execution_count": 0,
      "outputs": []
    },
    {
      "cell_type": "code",
      "metadata": {
        "id": "Y6ISp7twaPdG",
        "colab_type": "code",
        "colab": {}
      },
      "source": [
        "bsdiff = bs_replicates_Gonzaga - bs_replicates_kansas\n",
        "\n",
        "#Get the observed difference from the actual dataset\n",
        "obs_diff = np.mean(Gonzaga) - np.mean(kansas)\n",
        "obs_diff"
      ],
      "execution_count": 0,
      "outputs": []
    },
    {
      "cell_type": "code",
      "metadata": {
        "id": "mQUk18vGaPm6",
        "colab_type": "code",
        "colab": {}
      },
      "source": [
        "# Computing p-value\n",
        "p = np.sum(bs_replicates >= mean_diff) / len(bs_replicates)\n",
        "print(\"p-value =\", p)"
      ],
      "execution_count": 0,
      "outputs": []
    },
    {
      "cell_type": "code",
      "metadata": {
        "id": "76lt5TnZaY0l",
        "colab_type": "code",
        "colab": {}
      },
      "source": [
        "mean_diff"
      ],
      "execution_count": 0,
      "outputs": []
    },
    {
      "cell_type": "code",
      "metadata": {
        "id": "QP_mX9GOaZBl",
        "colab_type": "code",
        "colab": {}
      },
      "source": [
        "# Plotting the histogram of bootsrapped differences in means\n",
        "plt.hist(bs_replicates, bins=100)\n",
        "plt.axvline(mean_diff, linestyle=\"--\")\n",
        "plt.axvline(-mean_diff, linestyle=\"--\")\n",
        "plt.axvline(conf_int_lower1, color='red')\n",
        "plt.axvline(conf_int_upper1, color='red')\n",
        "plt.xlabel('Difference in means')\n",
        "plt.ylabel('Frequency')\n",
        "plt.title('Distribution of differences in means between shifted bootstrapped replicates \\\n",
        "of Gonzaga and Kansas');"
      ],
      "execution_count": 0,
      "outputs": []
    },
    {
      "cell_type": "markdown",
      "metadata": {
        "id": "wQaZAZNFaiOd",
        "colab_type": "text"
      },
      "source": [
        "Interpretation:\n",
        "The solid red vertical lines correspond to the 95% lower and upper confidence intervals of expected random differences in means of boostrapped replicates of Gonzaga and Kansas samples. The dashed blue vertical lines correspond to the observed difference in means between Gonzaga and kansas samples.\n",
        "Our Null and Alternative Hypothesis were as follows:\n",
        "𝐻0\n",
        "H\n",
        "0\n",
        "  : there is no statistically significant difference in the means of the winning scores between Kansas and Gonzaga i.e.  𝜇𝑑\n",
        "μ\n",
        "d\n",
        "  = 0\n",
        "𝐻𝑎\n",
        "H\n",
        "a\n",
        "  : there is a statistically significant difference in the means of the winning scores between Kansas and Gonzaga i.e.  𝜇𝑑\n",
        "μ\n",
        "d\n",
        "   ≠\n",
        "≠\n",
        "  0\n",
        "The calculated p value of 0.16 is greater than the significance value of 0.05 i.e. 0.16>0.05. Therefore we fail to reject the null hypothesis, and say there there is no statistically significant difference in the means of the winning scores between Kansas and Gonzaga.\n",
        "Our bootstrap replicates with a 95% confidence interval indicate that the difference in means between the two groups have a 95% chance of lying within [-1.4236463156146701 , 1.4045422356365809]. Our calculated difference in means is 0.71. Since the value is within the 95% confidence range, we therefore fail to reject the null hypothesis, and say there is no statistically significant difference in means between the Kansas and Gonzaga winning scores."
      ]
    }
  ]
}