{
 "cells": [
  {
   "cell_type": "markdown",
   "metadata": {},
   "source": [
    "## Introduction\n",
    "In this kernal a regular season analysis will be conducted on NCAA tournament for seasons 2012 - 2019. A series of questions will be asked of the data, with the aim of better understanding the dataset provided. The results and answers to these questions will be displayed using packages provided by python. The questions will be :\n",
    "\n",
    "1. a. Does a winning team score more points when playing at home, than when playing at either a neutral ground or an away ground?\n",
    "\n",
    "  b. Does a losing team score more points when playing at home, than when playing at either a neutral ground or an away ground?\n",
    "\n",
    "2. Is there a difference in the amount of matches played at home, away or a neutral location?\n",
    "\n",
    "3. What is the average points scored in a day per season?\n",
    "\n",
    "4. What is the average variation in points scored for the winning team per season?\n",
    "\n",
    "5. What is the average variation in three-points scored by the winning team when playing at home, away or a neutral location per season?\n",
    "\n",
    "6. What is the average turnover by the winning team when playing at home, away or a neutral location per season?\n",
    "\n",
    "7. What is the ranking of the top 15 teams based on the winning percentage per season?\n",
    "\n",
    "8. a.Ranking the top 15 teams by the no. of points scored for all seasons irrespective of the number of matches played\n",
    "\n",
    "  b. Ranking the teams by lowest no. of points scored for all seasons irrespective of the number of matches played"
   ]
  },
  {
   "cell_type": "code",
   "execution_count": 1,
   "metadata": {},
   "outputs": [
    {
     "name": "stderr",
     "output_type": "stream",
     "text": [
      "/Users/adejuwon/opt/anaconda3/lib/python3.7/site-packages/statsmodels/tools/_testing.py:19: FutureWarning: pandas.util.testing is deprecated. Use the functions in the public API at pandas.testing instead.\n",
      "  import pandas.util.testing as tm\n"
     ]
    }
   ],
   "source": [
    "#Packages imported to be used for analysis\n",
    "\n",
    "import numpy as np\n",
    "import pandas as pd\n",
    "import seaborn as sns\n",
    "\n",
    "%matplotlib inline\n",
    "\n",
    "import matplotlib.pyplot as plt\n",
    "from collections import Counter\n",
    "\n",
    "from IPython import display\n",
    "from ipywidgets import interact, widgets\n",
    "\n"
   ]
  },
  {
   "cell_type": "markdown",
   "metadata": {},
   "source": [
    "## Question 1a\n",
    "\n",
    "Does a winning team score more points when playing at home than when playing at either a neutral ground or an away ground?"
   ]
  },
  {
   "cell_type": "code",
   "execution_count": 2,
   "metadata": {},
   "outputs": [
    {
     "data": {
      "text/html": [
       "<div>\n",
       "<style scoped>\n",
       "    .dataframe tbody tr th:only-of-type {\n",
       "        vertical-align: middle;\n",
       "    }\n",
       "\n",
       "    .dataframe tbody tr th {\n",
       "        vertical-align: top;\n",
       "    }\n",
       "\n",
       "    .dataframe thead th {\n",
       "        text-align: right;\n",
       "    }\n",
       "</style>\n",
       "<table border=\"1\" class=\"dataframe\">\n",
       "  <thead>\n",
       "    <tr style=\"text-align: right;\">\n",
       "      <th></th>\n",
       "      <th>Season</th>\n",
       "      <th>DayNum</th>\n",
       "      <th>WTeamID</th>\n",
       "      <th>WScore</th>\n",
       "      <th>LTeamID</th>\n",
       "      <th>LScore</th>\n",
       "      <th>WLoc</th>\n",
       "      <th>NumOT</th>\n",
       "      <th>WFGM</th>\n",
       "      <th>WFGA</th>\n",
       "      <th>...</th>\n",
       "      <th>LFGA3</th>\n",
       "      <th>LFTM</th>\n",
       "      <th>LFTA</th>\n",
       "      <th>LOR</th>\n",
       "      <th>LDR</th>\n",
       "      <th>LAst</th>\n",
       "      <th>LTO</th>\n",
       "      <th>LStl</th>\n",
       "      <th>LBlk</th>\n",
       "      <th>LPF</th>\n",
       "    </tr>\n",
       "  </thead>\n",
       "  <tbody>\n",
       "    <tr>\n",
       "      <th>0</th>\n",
       "      <td>2003</td>\n",
       "      <td>10</td>\n",
       "      <td>1104</td>\n",
       "      <td>68</td>\n",
       "      <td>1328</td>\n",
       "      <td>62</td>\n",
       "      <td>N</td>\n",
       "      <td>0</td>\n",
       "      <td>27</td>\n",
       "      <td>58</td>\n",
       "      <td>...</td>\n",
       "      <td>10</td>\n",
       "      <td>16</td>\n",
       "      <td>22</td>\n",
       "      <td>10</td>\n",
       "      <td>22</td>\n",
       "      <td>8</td>\n",
       "      <td>18</td>\n",
       "      <td>9</td>\n",
       "      <td>2</td>\n",
       "      <td>20</td>\n",
       "    </tr>\n",
       "    <tr>\n",
       "      <th>1</th>\n",
       "      <td>2003</td>\n",
       "      <td>10</td>\n",
       "      <td>1272</td>\n",
       "      <td>70</td>\n",
       "      <td>1393</td>\n",
       "      <td>63</td>\n",
       "      <td>N</td>\n",
       "      <td>0</td>\n",
       "      <td>26</td>\n",
       "      <td>62</td>\n",
       "      <td>...</td>\n",
       "      <td>24</td>\n",
       "      <td>9</td>\n",
       "      <td>20</td>\n",
       "      <td>20</td>\n",
       "      <td>25</td>\n",
       "      <td>7</td>\n",
       "      <td>12</td>\n",
       "      <td>8</td>\n",
       "      <td>6</td>\n",
       "      <td>16</td>\n",
       "    </tr>\n",
       "    <tr>\n",
       "      <th>2</th>\n",
       "      <td>2003</td>\n",
       "      <td>11</td>\n",
       "      <td>1266</td>\n",
       "      <td>73</td>\n",
       "      <td>1437</td>\n",
       "      <td>61</td>\n",
       "      <td>N</td>\n",
       "      <td>0</td>\n",
       "      <td>24</td>\n",
       "      <td>58</td>\n",
       "      <td>...</td>\n",
       "      <td>26</td>\n",
       "      <td>14</td>\n",
       "      <td>23</td>\n",
       "      <td>31</td>\n",
       "      <td>22</td>\n",
       "      <td>9</td>\n",
       "      <td>12</td>\n",
       "      <td>2</td>\n",
       "      <td>5</td>\n",
       "      <td>23</td>\n",
       "    </tr>\n",
       "    <tr>\n",
       "      <th>3</th>\n",
       "      <td>2003</td>\n",
       "      <td>11</td>\n",
       "      <td>1296</td>\n",
       "      <td>56</td>\n",
       "      <td>1457</td>\n",
       "      <td>50</td>\n",
       "      <td>N</td>\n",
       "      <td>0</td>\n",
       "      <td>18</td>\n",
       "      <td>38</td>\n",
       "      <td>...</td>\n",
       "      <td>22</td>\n",
       "      <td>8</td>\n",
       "      <td>15</td>\n",
       "      <td>17</td>\n",
       "      <td>20</td>\n",
       "      <td>9</td>\n",
       "      <td>19</td>\n",
       "      <td>4</td>\n",
       "      <td>3</td>\n",
       "      <td>23</td>\n",
       "    </tr>\n",
       "    <tr>\n",
       "      <th>4</th>\n",
       "      <td>2003</td>\n",
       "      <td>11</td>\n",
       "      <td>1400</td>\n",
       "      <td>77</td>\n",
       "      <td>1208</td>\n",
       "      <td>71</td>\n",
       "      <td>N</td>\n",
       "      <td>0</td>\n",
       "      <td>30</td>\n",
       "      <td>61</td>\n",
       "      <td>...</td>\n",
       "      <td>16</td>\n",
       "      <td>17</td>\n",
       "      <td>27</td>\n",
       "      <td>21</td>\n",
       "      <td>15</td>\n",
       "      <td>12</td>\n",
       "      <td>10</td>\n",
       "      <td>7</td>\n",
       "      <td>1</td>\n",
       "      <td>14</td>\n",
       "    </tr>\n",
       "  </tbody>\n",
       "</table>\n",
       "<p>5 rows × 34 columns</p>\n",
       "</div>"
      ],
      "text/plain": [
       "   Season  DayNum  WTeamID  WScore  LTeamID  LScore WLoc  NumOT  WFGM  WFGA  \\\n",
       "0    2003      10     1104      68     1328      62    N      0    27    58   \n",
       "1    2003      10     1272      70     1393      63    N      0    26    62   \n",
       "2    2003      11     1266      73     1437      61    N      0    24    58   \n",
       "3    2003      11     1296      56     1457      50    N      0    18    38   \n",
       "4    2003      11     1400      77     1208      71    N      0    30    61   \n",
       "\n",
       "   ...  LFGA3  LFTM  LFTA  LOR  LDR  LAst  LTO  LStl  LBlk  LPF  \n",
       "0  ...     10    16    22   10   22     8   18     9     2   20  \n",
       "1  ...     24     9    20   20   25     7   12     8     6   16  \n",
       "2  ...     26    14    23   31   22     9   12     2     5   23  \n",
       "3  ...     22     8    15   17   20     9   19     4     3   23  \n",
       "4  ...     16    17    27   21   15    12   10     7     1   14  \n",
       "\n",
       "[5 rows x 34 columns]"
      ]
     },
     "execution_count": 2,
     "metadata": {},
     "output_type": "execute_result"
    }
   ],
   "source": [
    "capstone= pd.read_csv(\"mens-machine-learning-competition-2019/Prelim2019_RegularSeasonDetailedResults.csv\")\n",
    "cap = pd.read_csv(\"mens-machine-learning-competition-2019/TeamSpellings.csv\",encoding =\"latin\")\n",
    "#cap2 = pd.read_csv(\"mens-machine-learning-competition-2019/TeamSp.csv\",encoding =\"latin\")\n",
    "\n",
    "capstone.head()\n"
   ]
  },
  {
   "cell_type": "code",
   "execution_count": 3,
   "metadata": {},
   "outputs": [
    {
     "data": {
      "image/png": "[encoded data removed]",
      "text/plain": [
       "<Figure size 720x504 with 1 Axes>"
      ]
     },
     "metadata": {
      "needs_background": "light"
     },
     "output_type": "display_data"
    }
   ],
   "source": [
    "fig,ax1 = plt.subplots(1,1)\n",
    "fig.set_size_inches(10,7)\n",
    "\n",
    "capstone_plot= sns.boxplot(data = capstone, x= 'WLoc',y ='WScore')\n",
    "\n",
    "ax1.set_title(\"Points Distribution\")\n",
    "ax1.set_xticklabels(['Neutral Ground',\"Home Ground\",\"Away Ground\" ])\n",
    "ax1.set_ylabel('Points Scored by Winning team')\n",
    "plt.show()"
   ]
  },
  {
   "cell_type": "markdown",
   "metadata": {},
   "source": [
    "## Conclusion\n",
    "The average number of points for the winning team at their home ground is higher than the points scored when playing at either away or neutral grounds."
   ]
  },
  {
   "cell_type": "markdown",
   "metadata": {},
   "source": [
    "## Question 1b\n",
    "Does a losing team score more points when playing at home than when playing at either a neutral ground or an away ground?"
   ]
  },
  {
   "cell_type": "code",
   "execution_count": 4,
   "metadata": {},
   "outputs": [
    {
     "data": {
      "image/png": "[encoded data removed]",
      "text/plain": [
       "<Figure size 720x504 with 1 Axes>"
      ]
     },
     "metadata": {
      "needs_background": "light"
     },
     "output_type": "display_data"
    }
   ],
   "source": [
    "capstone= pd.read_csv(\"mens-machine-learning-competition-2019/Prelim2019_RegularSeasonDetailedResults.csv\")\n",
    "cap = pd.read_csv(\"mens-machine-learning-competition-2019/TeamSpellings.csv\",encoding =\"latin\")\n",
    "fig,ax1 = plt.subplots(1,1)\n",
    "fig.set_size_inches(10,7)\n",
    "\n",
    "capstone_plot= sns.boxplot(data = capstone, x= 'WLoc',y ='LScore')\n",
    "\n",
    "ax1.set_title(\"Points Distribution\")\n",
    "ax1.set_xticklabels(['Neutral Ground',\"Home Ground\",\"Away Ground\" ])\n",
    "ax1.set_ylabel('Points Scored by Losing team')\n",
    "plt.show()"
   ]
  },
  {
   "cell_type": "markdown",
   "metadata": {},
   "source": [
    "The plots seem to show that the losing teams scores more points when playing at an away ground versus when playing at their neutral or home ground.However, there seems to be no difference to the average number of points scored by the losing team when playing in either of the neutral or home locations."
   ]
  },
  {
   "cell_type": "markdown",
   "metadata": {},
   "source": [
    "## Question 2\n",
    "What is the difference in amount of games played in either home, away or at a neutral location?"
   ]
  },
  {
   "cell_type": "code",
   "execution_count": 5,
   "metadata": {},
   "outputs": [
    {
     "data": {
      "text/html": [
       "<div>\n",
       "<style scoped>\n",
       "    .dataframe tbody tr th:only-of-type {\n",
       "        vertical-align: middle;\n",
       "    }\n",
       "\n",
       "    .dataframe tbody tr th {\n",
       "        vertical-align: top;\n",
       "    }\n",
       "\n",
       "    .dataframe thead th {\n",
       "        text-align: right;\n",
       "    }\n",
       "</style>\n",
       "<table border=\"1\" class=\"dataframe\">\n",
       "  <thead>\n",
       "    <tr style=\"text-align: right;\">\n",
       "      <th></th>\n",
       "      <th>WLoc</th>\n",
       "    </tr>\n",
       "  </thead>\n",
       "  <tbody>\n",
       "    <tr>\n",
       "      <th>H</th>\n",
       "      <td>51821</td>\n",
       "    </tr>\n",
       "    <tr>\n",
       "      <th>A</th>\n",
       "      <td>26757</td>\n",
       "    </tr>\n",
       "    <tr>\n",
       "      <th>N</th>\n",
       "      <td>8788</td>\n",
       "    </tr>\n",
       "  </tbody>\n",
       "</table>\n",
       "</div>"
      ],
      "text/plain": [
       "    WLoc\n",
       "H  51821\n",
       "A  26757\n",
       "N   8788"
      ]
     },
     "execution_count": 5,
     "metadata": {},
     "output_type": "execute_result"
    }
   ],
   "source": [
    "pd.DataFrame(capstone.WLoc.value_counts())"
   ]
  },
  {
   "cell_type": "code",
   "execution_count": 6,
   "metadata": {},
   "outputs": [
    {
     "data": {
      "image/png": "[encoded data removed]",
      "text/plain": [
       "<Figure size 720x720 with 1 Axes>"
      ]
     },
     "metadata": {
      "needs_background": "light"
     },
     "output_type": "display_data"
    }
   ],
   "source": [
    "plt.figure(figsize=(10,10))\n",
    "sns.countplot(y = capstone[\"Season\"],hue=capstone[\"WLoc\"],\n",
    "              palette=[\"r\",\"g\",\"b\",\"c\",\"lime\",\"m\",\"y\",\"k\",\"gold\",\"orange\"])\n",
    "plt.title(\"Matches Played Per Season\")\n",
    "plt.show()"
   ]
  },
  {
   "cell_type": "markdown",
   "metadata": {},
   "source": [
    "## Conclusion\n",
    "The proportion of all games played at home, away and in a neutral ground were all similar across all seasons.The graphs also show that more matches were played at home than at away and neutral locations in a given season."
   ]
  },
  {
   "cell_type": "markdown",
   "metadata": {},
   "source": [
    "## Question 3\n",
    "What is the average points scored in a day per season?"
   ]
  },
  {
   "cell_type": "code",
   "execution_count": 7,
   "metadata": {},
   "outputs": [],
   "source": [
    "# The first thing to do is to associate TeamID to the name of the team. \n",
    "#This will help us put a name to the team\n",
    "dic = {}\n",
    "for i in range(0,len(cap[\"TeamID\"])):\n",
    "    dic[cap[\"TeamID\"][i]]=cap['TeamNameSpelling'][i]\n",
    "capstone[\"WTeamName\"]=[dic[teamid] for teamid in capstone['WTeamID']]\n",
    "capstone[\"LTeamName\"]=[dic[teamid] for teamid in capstone['LTeamID']]"
   ]
  },
  {
   "cell_type": "code",
   "execution_count": 8,
   "metadata": {},
   "outputs": [],
   "source": [
    "def plotyear(Season):\n",
    "    Avg=pd.DataFrame(capstone[capstone.Season == Season].groupby(\"DayNum\").WScore.mean().reset_index())\n",
    "    plt.plot(Avg['DayNum'],Avg['WScore'])\n",
    "    plt.axis(ymin=50,ymax=100,xmin=0,xmax=150)\n",
    "    plt.xlabel('Progression of Season')\n",
    "    plt.ylabel('Points Scored')\n",
    "    plt.title(\" Average Points Scored per Season \")\n",
    "    plt.show()\n",
    "    "
   ]
  },
  {
   "cell_type": "code",
   "execution_count": 9,
   "metadata": {},
   "outputs": [],
   "source": [
    "Avg=pd.DataFrame(capstone[capstone.Season == 2003].groupby(\"DayNum\").WScore.mean().reset_index())"
   ]
  },
  {
   "cell_type": "code",
   "execution_count": 10,
   "metadata": {
    "scrolled": false
   },
   "outputs": [
    {
     "data": {
      "image/png": "[encoded data removed]",
      "text/plain": [
       "<Figure size 432x288 with 1 Axes>"
      ]
     },
     "metadata": {
      "needs_background": "light"
     },
     "output_type": "display_data"
    }
   ],
   "source": [
    "# First try the average point scored for 2003\n",
    "plotyear(2003)"
   ]
  },
  {
   "cell_type": "markdown",
   "metadata": {},
   "source": [
    "## Conclusion\n",
    "The chart shows a general trend of decreasing points scored as the season progreesses."
   ]
  },
  {
   "cell_type": "markdown",
   "metadata": {},
   "source": [
    "## Question 4.\n",
    "What is the average variation in points scored for the winning team per season? "
   ]
  },
  {
   "cell_type": "code",
   "execution_count": 11,
   "metadata": {},
   "outputs": [],
   "source": [
    "Home = capstone[capstone.WLoc == 'H']\n",
    "Away = capstone[capstone.WLoc == 'A']\n",
    "Neutral = capstone[capstone.WLoc == 'N']"
   ]
  },
  {
   "cell_type": "code",
   "execution_count": 12,
   "metadata": {},
   "outputs": [],
   "source": [
    "AvgH=Home.groupby(\"Season\").WScore.mean()\n",
    "\n",
    "AvgA=Away.groupby(\"Season\").WScore.mean()\n",
    "\n",
    "AvgN=Neutral.groupby(\"Season\").WScore.mean()"
   ]
  },
  {
   "cell_type": "code",
   "execution_count": 13,
   "metadata": {},
   "outputs": [
    {
     "data": {
      "image/png": "[encoded data removed]",
      "text/plain": [
       "<Figure size 432x288 with 1 Axes>"
      ]
     },
     "metadata": {
      "needs_background": "light"
     },
     "output_type": "display_data"
    }
   ],
   "source": [
    "A=plt.plot(AvgH.index,AvgH)\n",
    "B=plt.plot(AvgA.index,AvgA)\n",
    "C=plt.plot(AvgN.index,AvgN)\n",
    "\n",
    "\n",
    "plt.xlabel('Season')\n",
    "plt.ylabel('Points Scored per Season')\n",
    "plt.title(' Points Scored per winning team', size=20)\n",
    "plt.legend([\"Home\", \"Away\",\"Neutral\"],loc=0)\n",
    "plt.show()"
   ]
  },
  {
   "cell_type": "markdown",
   "metadata": {},
   "source": [
    "## Conclusion\n",
    "For all seasons the number of points scored by the winning team while playing at home is greater than points scored when playing at an away or a neutral location. The data also shows that from 2015 there is a general upward trend in the points scored per season"
   ]
  },
  {
   "cell_type": "markdown",
   "metadata": {},
   "source": [
    "## Question 5.\n",
    "What is the average variation in three-pointers scored by the winning team when playing at home, away or a neutral location per season?\n"
   ]
  },
  {
   "cell_type": "code",
   "execution_count": 14,
   "metadata": {},
   "outputs": [
    {
     "data": {
      "image/png": "[encoded data removed]",
      "text/plain": [
       "<Figure size 432x288 with 1 Axes>"
      ]
     },
     "metadata": {
      "needs_background": "light"
     },
     "output_type": "display_data"
    }
   ],
   "source": [
    "\n",
    "\n",
    "AvgH3=Home.groupby(\"Season\").WFGM3.mean()\n",
    "\n",
    "AvgA3=Away.groupby(\"Season\").WFGM3.mean()\n",
    "\n",
    "AvgN3=Neutral.groupby(\"Season\").WFGM3.mean()\n",
    "\n",
    "A=plt.plot(AvgH3.index,AvgH3)\n",
    "B=plt.plot(AvgA3.index,AvgA3)\n",
    "C=plt.plot(AvgN3.index,AvgN3)\n",
    "\n",
    "plt.xlabel('Season')\n",
    "plt.ylabel('Three-pointers scored per season')\n",
    "plt.title('Three-pointers scored per winning team', size=20)\n",
    "plt.legend([\"Home\", \"Away\",\"Neutral\"],loc=0)\n",
    "plt.show()"
   ]
  },
  {
   "cell_type": "markdown",
   "metadata": {},
   "source": [
    "## Conclusion\n",
    "For most seasons the number of three-pointers scored by the winning team while playing at home is greater than three pointers scored when playing at an away, or a neutral location."
   ]
  },
  {
   "cell_type": "markdown",
   "metadata": {},
   "source": [
    "## Question 6\n",
    "What is the average variation in turnovers per season?"
   ]
  },
  {
   "cell_type": "code",
   "execution_count": 15,
   "metadata": {},
   "outputs": [],
   "source": [
    "AvgHTO=Home.groupby(\"Season\").WTO.mean()\n",
    "\n",
    "AvgATO=Away.groupby(\"Season\").WTO.mean()\n",
    "\n",
    "AvgNTO=Neutral.groupby(\"Season\").WTO.mean()"
   ]
  },
  {
   "cell_type": "code",
   "execution_count": 16,
   "metadata": {},
   "outputs": [
    {
     "data": {
      "image/png": "[encoded data removed]",
      "text/plain": [
       "<Figure size 432x288 with 1 Axes>"
      ]
     },
     "metadata": {
      "needs_background": "light"
     },
     "output_type": "display_data"
    }
   ],
   "source": [
    "ATO=plt.plot(AvgHTO.index,AvgHTO)\n",
    "BTO=plt.plot(AvgATO.index,AvgATO)\n",
    "CTO=plt.plot(AvgNTO.index,AvgNTO)\n",
    "\n",
    "\n",
    "plt.xlabel('Season Progression')\n",
    "plt.ylabel('Turnover per season')\n",
    "plt.title(' Turnover per winning team', size=20)\n",
    "plt.legend([\"Home\", \"Away\",\"Neutral\"],loc=0)\n",
    "plt.show()"
   ]
  },
  {
   "cell_type": "markdown",
   "metadata": {},
   "source": [
    "## Conclusion\n",
    "For all seasons the number of turnovers conceeded while playing at an away location for the winning team is greater than turnovers conceeded when playing at an home or a neutral location. There also seems to be a decrease in number of turnovers through the years."
   ]
  },
  {
   "cell_type": "markdown",
   "metadata": {},
   "source": [
    "## Question 7\n",
    "What is the ranking of the top 15 teams based on the winning percentage per season?\n",
    "Winning Percentage is defined as (matches won/total matches played *100)"
   ]
  },
  {
   "cell_type": "code",
   "execution_count": 17,
   "metadata": {},
   "outputs": [],
   "source": [
    "# Matches Played by Teams\n",
    "w=pd.DataFrame(capstone[\"WTeamName\"].value_counts())\n",
    "l=pd.DataFrame(capstone[\"LTeamName\"].value_counts())"
   ]
  },
  {
   "cell_type": "code",
   "execution_count": 18,
   "metadata": {},
   "outputs": [
    {
     "data": {
      "text/html": [
       "<div>\n",
       "<style scoped>\n",
       "    .dataframe tbody tr th:only-of-type {\n",
       "        vertical-align: middle;\n",
       "    }\n",
       "\n",
       "    .dataframe tbody tr th {\n",
       "        vertical-align: top;\n",
       "    }\n",
       "\n",
       "    .dataframe thead th {\n",
       "        text-align: right;\n",
       "    }\n",
       "</style>\n",
       "<table border=\"1\" class=\"dataframe\">\n",
       "  <thead>\n",
       "    <tr style=\"text-align: right;\">\n",
       "      <th></th>\n",
       "      <th>Matches Played</th>\n",
       "    </tr>\n",
       "  </thead>\n",
       "  <tbody>\n",
       "    <tr>\n",
       "      <th>gonzaga</th>\n",
       "      <td>453</td>\n",
       "    </tr>\n",
       "    <tr>\n",
       "      <th>duke</th>\n",
       "      <td>453</td>\n",
       "    </tr>\n",
       "    <tr>\n",
       "      <th>kansas</th>\n",
       "      <td>452</td>\n",
       "    </tr>\n",
       "    <tr>\n",
       "      <th>kentucky</th>\n",
       "      <td>433</td>\n",
       "    </tr>\n",
       "    <tr>\n",
       "      <th>unc</th>\n",
       "      <td>417</td>\n",
       "    </tr>\n",
       "    <tr>\n",
       "      <th>memphis</th>\n",
       "      <td>409</td>\n",
       "    </tr>\n",
       "    <tr>\n",
       "      <th>louisville</th>\n",
       "      <td>403</td>\n",
       "    </tr>\n",
       "    <tr>\n",
       "      <th>arizona</th>\n",
       "      <td>399</td>\n",
       "    </tr>\n",
       "    <tr>\n",
       "      <th>virginia-commonwealth</th>\n",
       "      <td>398</td>\n",
       "    </tr>\n",
       "    <tr>\n",
       "      <th>michigan-state</th>\n",
       "      <td>397</td>\n",
       "    </tr>\n",
       "    <tr>\n",
       "      <th>wisconsin</th>\n",
       "      <td>396</td>\n",
       "    </tr>\n",
       "    <tr>\n",
       "      <th>syracuse</th>\n",
       "      <td>394</td>\n",
       "    </tr>\n",
       "    <tr>\n",
       "      <th>villanova</th>\n",
       "      <td>393</td>\n",
       "    </tr>\n",
       "    <tr>\n",
       "      <th>florida</th>\n",
       "      <td>391</td>\n",
       "    </tr>\n",
       "    <tr>\n",
       "      <th>ohio-state</th>\n",
       "      <td>386</td>\n",
       "    </tr>\n",
       "  </tbody>\n",
       "</table>\n",
       "</div>"
      ],
      "text/plain": [
       "                       Matches Played\n",
       "gonzaga                           453\n",
       "duke                              453\n",
       "kansas                            452\n",
       "kentucky                          433\n",
       "unc                               417\n",
       "memphis                           409\n",
       "louisville                        403\n",
       "arizona                           399\n",
       "virginia-commonwealth             398\n",
       "michigan-state                    397\n",
       "wisconsin                         396\n",
       "syracuse                          394\n",
       "villanova                         393\n",
       "florida                           391\n",
       "ohio-state                        386"
      ]
     },
     "execution_count": 18,
     "metadata": {},
     "output_type": "execute_result"
    }
   ],
   "source": [
    "Winning_teams = w.rename(columns={\"WTeamName\":\"Matches Played\"})\n",
    "Winning_teams[:15]"
   ]
  },
  {
   "cell_type": "code",
   "execution_count": 19,
   "metadata": {},
   "outputs": [
    {
     "data": {
      "text/html": [
       "<div>\n",
       "<style scoped>\n",
       "    .dataframe tbody tr th:only-of-type {\n",
       "        vertical-align: middle;\n",
       "    }\n",
       "\n",
       "    .dataframe tbody tr th {\n",
       "        vertical-align: top;\n",
       "    }\n",
       "\n",
       "    .dataframe thead th {\n",
       "        text-align: right;\n",
       "    }\n",
       "</style>\n",
       "<table border=\"1\" class=\"dataframe\">\n",
       "  <thead>\n",
       "    <tr style=\"text-align: right;\">\n",
       "      <th></th>\n",
       "      <th>Matches Played</th>\n",
       "    </tr>\n",
       "  </thead>\n",
       "  <tbody>\n",
       "    <tr>\n",
       "      <th>umes</th>\n",
       "      <td>391</td>\n",
       "    </tr>\n",
       "    <tr>\n",
       "      <th>chicago-state</th>\n",
       "      <td>382</td>\n",
       "    </tr>\n",
       "    <tr>\n",
       "      <th>howard</th>\n",
       "      <td>371</td>\n",
       "    </tr>\n",
       "    <tr>\n",
       "      <th>san-jose-state</th>\n",
       "      <td>369</td>\n",
       "    </tr>\n",
       "    <tr>\n",
       "      <th>alcorn-state</th>\n",
       "      <td>357</td>\n",
       "    </tr>\n",
       "    <tr>\n",
       "      <th>the-citadel</th>\n",
       "      <td>347</td>\n",
       "    </tr>\n",
       "    <tr>\n",
       "      <th>ark-pine-bluff</th>\n",
       "      <td>344</td>\n",
       "    </tr>\n",
       "    <tr>\n",
       "      <th>north-carolina-at</th>\n",
       "      <td>343</td>\n",
       "    </tr>\n",
       "    <tr>\n",
       "      <th>marist</th>\n",
       "      <td>340</td>\n",
       "    </tr>\n",
       "    <tr>\n",
       "      <th>fordham</th>\n",
       "      <td>340</td>\n",
       "    </tr>\n",
       "    <tr>\n",
       "      <th>mvsu(miss. valley st</th>\n",
       "      <td>339</td>\n",
       "    </tr>\n",
       "    <tr>\n",
       "      <th>coppin-state</th>\n",
       "      <td>339</td>\n",
       "    </tr>\n",
       "    <tr>\n",
       "      <th>youngstown-state</th>\n",
       "      <td>338</td>\n",
       "    </tr>\n",
       "    <tr>\n",
       "      <th>stetson</th>\n",
       "      <td>336</td>\n",
       "    </tr>\n",
       "    <tr>\n",
       "      <th>dartmouth</th>\n",
       "      <td>333</td>\n",
       "    </tr>\n",
       "  </tbody>\n",
       "</table>\n",
       "</div>"
      ],
      "text/plain": [
       "                      Matches Played\n",
       "umes                             391\n",
       "chicago-state                    382\n",
       "howard                           371\n",
       "san-jose-state                   369\n",
       "alcorn-state                     357\n",
       "the-citadel                      347\n",
       "ark-pine-bluff                   344\n",
       "north-carolina-at                343\n",
       "marist                           340\n",
       "fordham                          340\n",
       "mvsu(miss. valley st             339\n",
       "coppin-state                     339\n",
       "youngstown-state                 338\n",
       "stetson                          336\n",
       "dartmouth                        333"
      ]
     },
     "execution_count": 19,
     "metadata": {},
     "output_type": "execute_result"
    }
   ],
   "source": [
    "Losing_teams = l.rename(columns={\"LTeamName\":\"Matches Played\"})\n",
    "Losing_teams[:15]"
   ]
  },
  {
   "cell_type": "code",
   "execution_count": 20,
   "metadata": {
    "scrolled": true
   },
   "outputs": [],
   "source": [
    "pc_dict={team:w.loc[team][0]/(l.loc[team][0]+w.loc[team][0]) * 100 for team in w.index}"
   ]
  },
  {
   "cell_type": "code",
   "execution_count": 21,
   "metadata": {},
   "outputs": [
    {
     "data": {
      "image/png": "[encoded data removed]",
      "text/plain": [
       "<Figure size 432x288 with 1 Axes>"
      ]
     },
     "metadata": {
      "needs_background": "light"
     },
     "output_type": "display_data"
    }
   ],
   "source": [
    "pc_dict_counter =Counter(pc_dict)\n",
    "team=[]\n",
    "percentage=[]\n",
    "for item in pc_dict_counter.most_common(15):\n",
    "    team.append(item[0])\n",
    "    percentage.append(item[1])\n",
    "\n",
    "team.reverse()\n",
    "percentage.reverse()\n",
    "plt.barh(team,percentage)\n",
    "plt.title(\"Top 15 teams ranked by Win Percentage\")\n",
    "plt.ylabel(\"Team\")\n",
    "plt.xlabel(\"Percentages\")\n",
    "plt.tight_layout()\n",
    "plt.show()"
   ]
  },
  {
   "cell_type": "markdown",
   "metadata": {},
   "source": [
    "The team with the highest win percentage is Gonzaga"
   ]
  },
  {
   "cell_type": "markdown",
   "metadata": {},
   "source": [
    "## Question 8\n",
    "a. Ranking the top 15 teams by the no. of points scored in all seasons irrespective of the number of matches played.\n",
    "\n",
    "\n",
    "b. Ranking the 15 teams with least points scored in all seasons."
   ]
  },
  {
   "cell_type": "code",
   "execution_count": 22,
   "metadata": {},
   "outputs": [
    {
     "name": "stderr",
     "output_type": "stream",
     "text": [
      "/Users/adejuwon/opt/anaconda3/lib/python3.7/site-packages/seaborn/categorical.py:1627: MatplotlibDeprecationWarning: Using a string of single character colors as a color sequence is deprecated. Use an explicit list instead.\n",
      "  color=self.colors, align=\"center\", **kws)\n"
     ]
    },
    {
     "data": {
      "image/png": "[encoded data removed]",
      "text/plain": [
       "<Figure size 936x720 with 2 Axes>"
      ]
     },
     "metadata": {
      "needs_background": "light"
     },
     "output_type": "display_data"
    }
   ],
   "source": [
    "h_t = capstone.groupby(\"WTeamName\").WScore.sum().reset_index()\n",
    "a_t = capstone.groupby(\"LTeamName\").LScore.sum().reset_index()\n",
    "h_t = h_t.sort_values(\"WScore\",ascending= False)\n",
    "a_t = a_t.sort_values(\"LScore\",ascending= True)\n",
    "plt.figure(figsize=(13,10))\n",
    "plt.subplot(121)\n",
    "ax = sns.barplot(y=\"WTeamName\",x=\"WScore\",data=h_t[:15],palette=\"summer\",linewidth = 1,edgecolor = \"k\"*20)\n",
    "\n",
    "plt.ylabel('')\n",
    "plt.title(\"top 15 teams by points scored\")\n",
    "for i,j in enumerate(h_t[\"WScore\"][:15]):\n",
    "    ax.text(.7,i,j,weight = \"bold\")\n",
    "plt.subplot(122)\n",
    "ax = sns.barplot(y=\"LTeamName\",x=\"LScore\",\n",
    "                 data=a_t[:15],palette=\"winter\"\n",
    "                ,linewidth = 1,edgecolor = \"k\"*20)\n",
    "plt.ylabel(\"\")\n",
    "plt.subplots_adjust(wspace = .4)\n",
    "plt.title(\"Bottom 15 teams by points scored\")\n",
    "for i,j in enumerate(a_t[\"LScore\"][:15]):\n",
    "    ax.text(.7,i,j,weight = \"bold\")\n"
   ]
  },
  {
   "cell_type": "markdown",
   "metadata": {},
   "source": [
    "## Conclusion\n",
    "Duke scored the most amount of points in all seasons, but they also played the most amount of matches. California Baptist scored the least amount of points. This could be because they played very little matches. Also it can be seen that some teams like Duke,Kentucky and Gonzaga are in both plots. It could be that they lose very few games and it could also be because they dont score many points when they lose."
   ]
  },
  {
   "cell_type": "code",
   "execution_count": 23,
   "metadata": {},
   "outputs": [
    {
     "data": {
      "text/html": [
       "<div>\n",
       "<style scoped>\n",
       "    .dataframe tbody tr th:only-of-type {\n",
       "        vertical-align: middle;\n",
       "    }\n",
       "\n",
       "    .dataframe tbody tr th {\n",
       "        vertical-align: top;\n",
       "    }\n",
       "\n",
       "    .dataframe thead th {\n",
       "        text-align: right;\n",
       "    }\n",
       "</style>\n",
       "<table border=\"1\" class=\"dataframe\">\n",
       "  <thead>\n",
       "    <tr style=\"text-align: right;\">\n",
       "      <th></th>\n",
       "      <th>WTeamName</th>\n",
       "      <th>WScore</th>\n",
       "    </tr>\n",
       "  </thead>\n",
       "  <tbody>\n",
       "    <tr>\n",
       "      <th>0</th>\n",
       "      <td>abilene-christian</td>\n",
       "      <td>4535</td>\n",
       "    </tr>\n",
       "    <tr>\n",
       "      <th>1</th>\n",
       "      <td>air-force</td>\n",
       "      <td>16123</td>\n",
       "    </tr>\n",
       "    <tr>\n",
       "      <th>2</th>\n",
       "      <td>akron</td>\n",
       "      <td>25894</td>\n",
       "    </tr>\n",
       "    <tr>\n",
       "      <th>3</th>\n",
       "      <td>alabama</td>\n",
       "      <td>22717</td>\n",
       "    </tr>\n",
       "    <tr>\n",
       "      <th>4</th>\n",
       "      <td>alabama-am</td>\n",
       "      <td>10447</td>\n",
       "    </tr>\n",
       "    <tr>\n",
       "      <th>...</th>\n",
       "      <td>...</td>\n",
       "      <td>...</td>\n",
       "    </tr>\n",
       "    <tr>\n",
       "      <th>352</th>\n",
       "      <td>wright-state</td>\n",
       "      <td>20319</td>\n",
       "    </tr>\n",
       "    <tr>\n",
       "      <th>353</th>\n",
       "      <td>wyoming</td>\n",
       "      <td>18148</td>\n",
       "    </tr>\n",
       "    <tr>\n",
       "      <th>354</th>\n",
       "      <td>xavier</td>\n",
       "      <td>29821</td>\n",
       "    </tr>\n",
       "    <tr>\n",
       "      <th>355</th>\n",
       "      <td>yale</td>\n",
       "      <td>18343</td>\n",
       "    </tr>\n",
       "    <tr>\n",
       "      <th>356</th>\n",
       "      <td>youngstown-state</td>\n",
       "      <td>11090</td>\n",
       "    </tr>\n",
       "  </tbody>\n",
       "</table>\n",
       "<p>357 rows × 2 columns</p>\n",
       "</div>"
      ],
      "text/plain": [
       "             WTeamName  WScore\n",
       "0    abilene-christian    4535\n",
       "1            air-force   16123\n",
       "2                akron   25894\n",
       "3              alabama   22717\n",
       "4           alabama-am   10447\n",
       "..                 ...     ...\n",
       "352       wright-state   20319\n",
       "353            wyoming   18148\n",
       "354             xavier   29821\n",
       "355               yale   18343\n",
       "356   youngstown-state   11090\n",
       "\n",
       "[357 rows x 2 columns]"
      ]
     },
     "execution_count": 23,
     "metadata": {},
     "output_type": "execute_result"
    }
   ],
   "source": [
    "h_t = capstone.groupby(\"WTeamName\").WScore.sum().reset_index()\n",
    "\n",
    "df = pd.DataFrame(h_t).set_index(\"WTeamName\")\n",
    "df1=df.reset_index()\n",
    "df1"
   ]
  },
  {
   "cell_type": "code",
   "execution_count": 24,
   "metadata": {},
   "outputs": [
    {
     "data": {
      "text/html": [
       "<div>\n",
       "<style scoped>\n",
       "    .dataframe tbody tr th:only-of-type {\n",
       "        vertical-align: middle;\n",
       "    }\n",
       "\n",
       "    .dataframe tbody tr th {\n",
       "        vertical-align: top;\n",
       "    }\n",
       "\n",
       "    .dataframe thead th {\n",
       "        text-align: right;\n",
       "    }\n",
       "</style>\n",
       "<table border=\"1\" class=\"dataframe\">\n",
       "  <thead>\n",
       "    <tr style=\"text-align: right;\">\n",
       "      <th></th>\n",
       "      <th>WTeamName</th>\n",
       "      <th>Matches Played</th>\n",
       "    </tr>\n",
       "  </thead>\n",
       "  <tbody>\n",
       "    <tr>\n",
       "      <th>0</th>\n",
       "      <td>gonzaga</td>\n",
       "      <td>453</td>\n",
       "    </tr>\n",
       "    <tr>\n",
       "      <th>1</th>\n",
       "      <td>duke</td>\n",
       "      <td>453</td>\n",
       "    </tr>\n",
       "    <tr>\n",
       "      <th>2</th>\n",
       "      <td>kansas</td>\n",
       "      <td>452</td>\n",
       "    </tr>\n",
       "    <tr>\n",
       "      <th>3</th>\n",
       "      <td>kentucky</td>\n",
       "      <td>433</td>\n",
       "    </tr>\n",
       "    <tr>\n",
       "      <th>4</th>\n",
       "      <td>unc</td>\n",
       "      <td>417</td>\n",
       "    </tr>\n",
       "    <tr>\n",
       "      <th>...</th>\n",
       "      <td>...</td>\n",
       "      <td>...</td>\n",
       "    </tr>\n",
       "    <tr>\n",
       "      <th>352</th>\n",
       "      <td>incarnate-word</td>\n",
       "      <td>50</td>\n",
       "    </tr>\n",
       "    <tr>\n",
       "      <th>353</th>\n",
       "      <td>winston-salem-state</td>\n",
       "      <td>26</td>\n",
       "    </tr>\n",
       "    <tr>\n",
       "      <th>354</th>\n",
       "      <td>california baptist</td>\n",
       "      <td>12</td>\n",
       "    </tr>\n",
       "    <tr>\n",
       "      <th>355</th>\n",
       "      <td>north alabama</td>\n",
       "      <td>7</td>\n",
       "    </tr>\n",
       "    <tr>\n",
       "      <th>356</th>\n",
       "      <td>morris-brown</td>\n",
       "      <td>4</td>\n",
       "    </tr>\n",
       "  </tbody>\n",
       "</table>\n",
       "<p>357 rows × 2 columns</p>\n",
       "</div>"
      ],
      "text/plain": [
       "               WTeamName  Matches Played\n",
       "0                gonzaga             453\n",
       "1                   duke             453\n",
       "2                 kansas             452\n",
       "3               kentucky             433\n",
       "4                    unc             417\n",
       "..                   ...             ...\n",
       "352       incarnate-word              50\n",
       "353  winston-salem-state              26\n",
       "354   california baptist              12\n",
       "355        north alabama               7\n",
       "356         morris-brown               4\n",
       "\n",
       "[357 rows x 2 columns]"
      ]
     },
     "execution_count": 24,
     "metadata": {},
     "output_type": "execute_result"
    }
   ],
   "source": [
    "Winning_teams.index.name = 'WTeamName'\n",
    "Winning_teams.reset_index()"
   ]
  },
  {
   "cell_type": "code",
   "execution_count": 25,
   "metadata": {},
   "outputs": [
    {
     "data": {
      "text/html": [
       "<div>\n",
       "<style scoped>\n",
       "    .dataframe tbody tr th:only-of-type {\n",
       "        vertical-align: middle;\n",
       "    }\n",
       "\n",
       "    .dataframe tbody tr th {\n",
       "        vertical-align: top;\n",
       "    }\n",
       "\n",
       "    .dataframe thead th {\n",
       "        text-align: right;\n",
       "    }\n",
       "</style>\n",
       "<table border=\"1\" class=\"dataframe\">\n",
       "  <thead>\n",
       "    <tr style=\"text-align: right;\">\n",
       "      <th></th>\n",
       "      <th>WScore</th>\n",
       "      <th>Matches Played</th>\n",
       "    </tr>\n",
       "    <tr>\n",
       "      <th>WTeamName</th>\n",
       "      <th></th>\n",
       "      <th></th>\n",
       "    </tr>\n",
       "  </thead>\n",
       "  <tbody>\n",
       "    <tr>\n",
       "      <th>abilene-christian</th>\n",
       "      <td>4535</td>\n",
       "      <td>60</td>\n",
       "    </tr>\n",
       "    <tr>\n",
       "      <th>air-force</th>\n",
       "      <td>16123</td>\n",
       "      <td>232</td>\n",
       "    </tr>\n",
       "    <tr>\n",
       "      <th>akron</th>\n",
       "      <td>25894</td>\n",
       "      <td>345</td>\n",
       "    </tr>\n",
       "    <tr>\n",
       "      <th>alabama</th>\n",
       "      <td>22717</td>\n",
       "      <td>308</td>\n",
       "    </tr>\n",
       "    <tr>\n",
       "      <th>alabama-am</th>\n",
       "      <td>10447</td>\n",
       "      <td>143</td>\n",
       "    </tr>\n",
       "    <tr>\n",
       "      <th>...</th>\n",
       "      <td>...</td>\n",
       "      <td>...</td>\n",
       "    </tr>\n",
       "    <tr>\n",
       "      <th>wright-state</th>\n",
       "      <td>20319</td>\n",
       "      <td>290</td>\n",
       "    </tr>\n",
       "    <tr>\n",
       "      <th>wyoming</th>\n",
       "      <td>18148</td>\n",
       "      <td>245</td>\n",
       "    </tr>\n",
       "    <tr>\n",
       "      <th>xavier</th>\n",
       "      <td>29821</td>\n",
       "      <td>383</td>\n",
       "    </tr>\n",
       "    <tr>\n",
       "      <th>yale</th>\n",
       "      <td>18343</td>\n",
       "      <td>247</td>\n",
       "    </tr>\n",
       "    <tr>\n",
       "      <th>youngstown-state</th>\n",
       "      <td>11090</td>\n",
       "      <td>148</td>\n",
       "    </tr>\n",
       "  </tbody>\n",
       "</table>\n",
       "<p>357 rows × 2 columns</p>\n",
       "</div>"
      ],
      "text/plain": [
       "                   WScore  Matches Played\n",
       "WTeamName                                \n",
       "abilene-christian    4535              60\n",
       "air-force           16123             232\n",
       "akron               25894             345\n",
       "alabama             22717             308\n",
       "alabama-am          10447             143\n",
       "...                   ...             ...\n",
       "wright-state        20319             290\n",
       "wyoming             18148             245\n",
       "xavier              29821             383\n",
       "yale                18343             247\n",
       "youngstown-state    11090             148\n",
       "\n",
       "[357 rows x 2 columns]"
      ]
     },
     "execution_count": 25,
     "metadata": {},
     "output_type": "execute_result"
    }
   ],
   "source": [
    "result = df.join(Winning_teams)\n",
    "result"
   ]
  },
  {
   "cell_type": "code",
   "execution_count": 26,
   "metadata": {},
   "outputs": [
    {
     "data": {
      "text/html": [
       "<div>\n",
       "<style scoped>\n",
       "    .dataframe tbody tr th:only-of-type {\n",
       "        vertical-align: middle;\n",
       "    }\n",
       "\n",
       "    .dataframe tbody tr th {\n",
       "        vertical-align: top;\n",
       "    }\n",
       "\n",
       "    .dataframe thead th {\n",
       "        text-align: right;\n",
       "    }\n",
       "</style>\n",
       "<table border=\"1\" class=\"dataframe\">\n",
       "  <thead>\n",
       "    <tr style=\"text-align: right;\">\n",
       "      <th></th>\n",
       "      <th>WScore</th>\n",
       "      <th>Matches Played</th>\n",
       "      <th>Res</th>\n",
       "    </tr>\n",
       "    <tr>\n",
       "      <th>WTeamName</th>\n",
       "      <th></th>\n",
       "      <th></th>\n",
       "      <th></th>\n",
       "    </tr>\n",
       "  </thead>\n",
       "  <tbody>\n",
       "    <tr>\n",
       "      <th>abilene-christian</th>\n",
       "      <td>4535</td>\n",
       "      <td>60</td>\n",
       "      <td>75.583333</td>\n",
       "    </tr>\n",
       "    <tr>\n",
       "      <th>air-force</th>\n",
       "      <td>16123</td>\n",
       "      <td>232</td>\n",
       "      <td>69.495690</td>\n",
       "    </tr>\n",
       "    <tr>\n",
       "      <th>akron</th>\n",
       "      <td>25894</td>\n",
       "      <td>345</td>\n",
       "      <td>75.055072</td>\n",
       "    </tr>\n",
       "    <tr>\n",
       "      <th>alabama</th>\n",
       "      <td>22717</td>\n",
       "      <td>308</td>\n",
       "      <td>73.756494</td>\n",
       "    </tr>\n",
       "    <tr>\n",
       "      <th>alabama-am</th>\n",
       "      <td>10447</td>\n",
       "      <td>143</td>\n",
       "      <td>73.055944</td>\n",
       "    </tr>\n",
       "    <tr>\n",
       "      <th>...</th>\n",
       "      <td>...</td>\n",
       "      <td>...</td>\n",
       "      <td>...</td>\n",
       "    </tr>\n",
       "    <tr>\n",
       "      <th>wright-state</th>\n",
       "      <td>20319</td>\n",
       "      <td>290</td>\n",
       "      <td>70.065517</td>\n",
       "    </tr>\n",
       "    <tr>\n",
       "      <th>wyoming</th>\n",
       "      <td>18148</td>\n",
       "      <td>245</td>\n",
       "      <td>74.073469</td>\n",
       "    </tr>\n",
       "    <tr>\n",
       "      <th>xavier</th>\n",
       "      <td>29821</td>\n",
       "      <td>383</td>\n",
       "      <td>77.861619</td>\n",
       "    </tr>\n",
       "    <tr>\n",
       "      <th>yale</th>\n",
       "      <td>18343</td>\n",
       "      <td>247</td>\n",
       "      <td>74.263158</td>\n",
       "    </tr>\n",
       "    <tr>\n",
       "      <th>youngstown-state</th>\n",
       "      <td>11090</td>\n",
       "      <td>148</td>\n",
       "      <td>74.932432</td>\n",
       "    </tr>\n",
       "  </tbody>\n",
       "</table>\n",
       "<p>357 rows × 3 columns</p>\n",
       "</div>"
      ],
      "text/plain": [
       "                   WScore  Matches Played        Res\n",
       "WTeamName                                           \n",
       "abilene-christian    4535              60  75.583333\n",
       "air-force           16123             232  69.495690\n",
       "akron               25894             345  75.055072\n",
       "alabama             22717             308  73.756494\n",
       "alabama-am          10447             143  73.055944\n",
       "...                   ...             ...        ...\n",
       "wright-state        20319             290  70.065517\n",
       "wyoming             18148             245  74.073469\n",
       "xavier              29821             383  77.861619\n",
       "yale                18343             247  74.263158\n",
       "youngstown-state    11090             148  74.932432\n",
       "\n",
       "[357 rows x 3 columns]"
      ]
     },
     "execution_count": 26,
     "metadata": {},
     "output_type": "execute_result"
    }
   ],
   "source": [
    "result['Res'] = result['WScore']/result['Matches Played']\n",
    "\n",
    "result"
   ]
  },
  {
   "cell_type": "code",
   "execution_count": 27,
   "metadata": {},
   "outputs": [
    {
     "data": {
      "text/html": [
       "<div>\n",
       "<style scoped>\n",
       "    .dataframe tbody tr th:only-of-type {\n",
       "        vertical-align: middle;\n",
       "    }\n",
       "\n",
       "    .dataframe tbody tr th {\n",
       "        vertical-align: top;\n",
       "    }\n",
       "\n",
       "    .dataframe thead th {\n",
       "        text-align: right;\n",
       "    }\n",
       "</style>\n",
       "<table border=\"1\" class=\"dataframe\">\n",
       "  <thead>\n",
       "    <tr style=\"text-align: right;\">\n",
       "      <th></th>\n",
       "      <th>WScore</th>\n",
       "      <th>Matches Played</th>\n",
       "      <th>Res</th>\n",
       "    </tr>\n",
       "    <tr>\n",
       "      <th>WTeamName</th>\n",
       "      <th></th>\n",
       "      <th></th>\n",
       "      <th></th>\n",
       "    </tr>\n",
       "  </thead>\n",
       "  <tbody>\n",
       "    <tr>\n",
       "      <th>vmi</th>\n",
       "      <td>13444</td>\n",
       "      <td>157</td>\n",
       "      <td>85.630573</td>\n",
       "    </tr>\n",
       "    <tr>\n",
       "      <th>unc</th>\n",
       "      <td>35480</td>\n",
       "      <td>417</td>\n",
       "      <td>85.083933</td>\n",
       "    </tr>\n",
       "    <tr>\n",
       "      <th>omaha</th>\n",
       "      <td>8066</td>\n",
       "      <td>95</td>\n",
       "      <td>84.905263</td>\n",
       "    </tr>\n",
       "    <tr>\n",
       "      <th>oakland</th>\n",
       "      <td>23087</td>\n",
       "      <td>280</td>\n",
       "      <td>82.453571</td>\n",
       "    </tr>\n",
       "    <tr>\n",
       "      <th>duke</th>\n",
       "      <td>37060</td>\n",
       "      <td>453</td>\n",
       "      <td>81.810155</td>\n",
       "    </tr>\n",
       "    <tr>\n",
       "      <th>washington</th>\n",
       "      <td>26849</td>\n",
       "      <td>329</td>\n",
       "      <td>81.607903</td>\n",
       "    </tr>\n",
       "    <tr>\n",
       "      <th>duquesne</th>\n",
       "      <td>17805</td>\n",
       "      <td>219</td>\n",
       "      <td>81.301370</td>\n",
       "    </tr>\n",
       "    <tr>\n",
       "      <th>gonzaga</th>\n",
       "      <td>36802</td>\n",
       "      <td>453</td>\n",
       "      <td>81.240618</td>\n",
       "    </tr>\n",
       "    <tr>\n",
       "      <th>northwestern-state</th>\n",
       "      <td>16163</td>\n",
       "      <td>199</td>\n",
       "      <td>81.221106</td>\n",
       "    </tr>\n",
       "    <tr>\n",
       "      <th>byu</th>\n",
       "      <td>30439</td>\n",
       "      <td>375</td>\n",
       "      <td>81.170667</td>\n",
       "    </tr>\n",
       "    <tr>\n",
       "      <th>belmont</th>\n",
       "      <td>29741</td>\n",
       "      <td>367</td>\n",
       "      <td>81.038147</td>\n",
       "    </tr>\n",
       "    <tr>\n",
       "      <th>kansas</th>\n",
       "      <td>36400</td>\n",
       "      <td>452</td>\n",
       "      <td>80.530973</td>\n",
       "    </tr>\n",
       "    <tr>\n",
       "      <th>arkansas</th>\n",
       "      <td>25352</td>\n",
       "      <td>315</td>\n",
       "      <td>80.482540</td>\n",
       "    </tr>\n",
       "    <tr>\n",
       "      <th>iona</th>\n",
       "      <td>24784</td>\n",
       "      <td>309</td>\n",
       "      <td>80.207120</td>\n",
       "    </tr>\n",
       "    <tr>\n",
       "      <th>south-dakota</th>\n",
       "      <td>11379</td>\n",
       "      <td>142</td>\n",
       "      <td>80.133803</td>\n",
       "    </tr>\n",
       "  </tbody>\n",
       "</table>\n",
       "</div>"
      ],
      "text/plain": [
       "                    WScore  Matches Played        Res\n",
       "WTeamName                                            \n",
       "vmi                  13444             157  85.630573\n",
       "unc                  35480             417  85.083933\n",
       "omaha                 8066              95  84.905263\n",
       "oakland              23087             280  82.453571\n",
       "duke                 37060             453  81.810155\n",
       "washington           26849             329  81.607903\n",
       "duquesne             17805             219  81.301370\n",
       "gonzaga              36802             453  81.240618\n",
       "northwestern-state   16163             199  81.221106\n",
       "byu                  30439             375  81.170667\n",
       "belmont              29741             367  81.038147\n",
       "kansas               36400             452  80.530973\n",
       "arkansas             25352             315  80.482540\n",
       "iona                 24784             309  80.207120\n",
       "south-dakota         11379             142  80.133803"
      ]
     },
     "execution_count": 27,
     "metadata": {},
     "output_type": "execute_result"
    }
   ],
   "source": [
    "answer=result.sort_values(by='Res',ascending=False)[:15]\n",
    "answer"
   ]
  },
  {
   "cell_type": "code",
   "execution_count": 28,
   "metadata": {},
   "outputs": [
    {
     "data": {
      "text/html": [
       "<div>\n",
       "<style scoped>\n",
       "    .dataframe tbody tr th:only-of-type {\n",
       "        vertical-align: middle;\n",
       "    }\n",
       "\n",
       "    .dataframe tbody tr th {\n",
       "        vertical-align: top;\n",
       "    }\n",
       "\n",
       "    .dataframe thead th {\n",
       "        text-align: right;\n",
       "    }\n",
       "</style>\n",
       "<table border=\"1\" class=\"dataframe\">\n",
       "  <thead>\n",
       "    <tr style=\"text-align: right;\">\n",
       "      <th></th>\n",
       "      <th>WTeamName</th>\n",
       "      <th>WScore</th>\n",
       "      <th>Matches Played</th>\n",
       "      <th>Res</th>\n",
       "    </tr>\n",
       "  </thead>\n",
       "  <tbody>\n",
       "    <tr>\n",
       "      <th>0</th>\n",
       "      <td>vmi</td>\n",
       "      <td>13444</td>\n",
       "      <td>157</td>\n",
       "      <td>85.630573</td>\n",
       "    </tr>\n",
       "    <tr>\n",
       "      <th>1</th>\n",
       "      <td>unc</td>\n",
       "      <td>35480</td>\n",
       "      <td>417</td>\n",
       "      <td>85.083933</td>\n",
       "    </tr>\n",
       "    <tr>\n",
       "      <th>2</th>\n",
       "      <td>omaha</td>\n",
       "      <td>8066</td>\n",
       "      <td>95</td>\n",
       "      <td>84.905263</td>\n",
       "    </tr>\n",
       "    <tr>\n",
       "      <th>3</th>\n",
       "      <td>oakland</td>\n",
       "      <td>23087</td>\n",
       "      <td>280</td>\n",
       "      <td>82.453571</td>\n",
       "    </tr>\n",
       "    <tr>\n",
       "      <th>4</th>\n",
       "      <td>duke</td>\n",
       "      <td>37060</td>\n",
       "      <td>453</td>\n",
       "      <td>81.810155</td>\n",
       "    </tr>\n",
       "    <tr>\n",
       "      <th>5</th>\n",
       "      <td>washington</td>\n",
       "      <td>26849</td>\n",
       "      <td>329</td>\n",
       "      <td>81.607903</td>\n",
       "    </tr>\n",
       "    <tr>\n",
       "      <th>6</th>\n",
       "      <td>duquesne</td>\n",
       "      <td>17805</td>\n",
       "      <td>219</td>\n",
       "      <td>81.301370</td>\n",
       "    </tr>\n",
       "    <tr>\n",
       "      <th>7</th>\n",
       "      <td>gonzaga</td>\n",
       "      <td>36802</td>\n",
       "      <td>453</td>\n",
       "      <td>81.240618</td>\n",
       "    </tr>\n",
       "    <tr>\n",
       "      <th>8</th>\n",
       "      <td>northwestern-state</td>\n",
       "      <td>16163</td>\n",
       "      <td>199</td>\n",
       "      <td>81.221106</td>\n",
       "    </tr>\n",
       "    <tr>\n",
       "      <th>9</th>\n",
       "      <td>byu</td>\n",
       "      <td>30439</td>\n",
       "      <td>375</td>\n",
       "      <td>81.170667</td>\n",
       "    </tr>\n",
       "    <tr>\n",
       "      <th>10</th>\n",
       "      <td>belmont</td>\n",
       "      <td>29741</td>\n",
       "      <td>367</td>\n",
       "      <td>81.038147</td>\n",
       "    </tr>\n",
       "    <tr>\n",
       "      <th>11</th>\n",
       "      <td>kansas</td>\n",
       "      <td>36400</td>\n",
       "      <td>452</td>\n",
       "      <td>80.530973</td>\n",
       "    </tr>\n",
       "    <tr>\n",
       "      <th>12</th>\n",
       "      <td>arkansas</td>\n",
       "      <td>25352</td>\n",
       "      <td>315</td>\n",
       "      <td>80.482540</td>\n",
       "    </tr>\n",
       "    <tr>\n",
       "      <th>13</th>\n",
       "      <td>iona</td>\n",
       "      <td>24784</td>\n",
       "      <td>309</td>\n",
       "      <td>80.207120</td>\n",
       "    </tr>\n",
       "    <tr>\n",
       "      <th>14</th>\n",
       "      <td>south-dakota</td>\n",
       "      <td>11379</td>\n",
       "      <td>142</td>\n",
       "      <td>80.133803</td>\n",
       "    </tr>\n",
       "  </tbody>\n",
       "</table>\n",
       "</div>"
      ],
      "text/plain": [
       "             WTeamName  WScore  Matches Played        Res\n",
       "0                  vmi   13444             157  85.630573\n",
       "1                  unc   35480             417  85.083933\n",
       "2                omaha    8066              95  84.905263\n",
       "3              oakland   23087             280  82.453571\n",
       "4                 duke   37060             453  81.810155\n",
       "5           washington   26849             329  81.607903\n",
       "6             duquesne   17805             219  81.301370\n",
       "7              gonzaga   36802             453  81.240618\n",
       "8   northwestern-state   16163             199  81.221106\n",
       "9                  byu   30439             375  81.170667\n",
       "10             belmont   29741             367  81.038147\n",
       "11              kansas   36400             452  80.530973\n",
       "12            arkansas   25352             315  80.482540\n",
       "13                iona   24784             309  80.207120\n",
       "14        south-dakota   11379             142  80.133803"
      ]
     },
     "execution_count": 28,
     "metadata": {},
     "output_type": "execute_result"
    }
   ],
   "source": [
    "result2 =answer.reset_index()\n",
    "result2"
   ]
  },
  {
   "cell_type": "code",
   "execution_count": 29,
   "metadata": {},
   "outputs": [
    {
     "data": {
      "text/plain": [
       "<BarContainer object of 15 artists>"
      ]
     },
     "execution_count": 29,
     "metadata": {},
     "output_type": "execute_result"
    },
    {
     "data": {
      "image/png": "[encoded data removed]",
      "text/plain": [
       "<Figure size 432x288 with 1 Axes>"
      ]
     },
     "metadata": {
      "needs_background": "light"
     },
     "output_type": "display_data"
    }
   ],
   "source": [
    "plt.barh(\"WTeamName\", \"Res\", data=result2)\n"
   ]
  }
 ],
 "metadata": {
  "kernelspec": {
   "display_name": "Python 3",
   "language": "python",
   "name": "python3"
  },
  "language_info": {
   "codemirror_mode": {
    "name": "ipython",
    "version": 3
   },
   "file_extension": ".py",
   "mimetype": "text/x-python",
   "name": "python",
   "nbconvert_exporter": "python",
   "pygments_lexer": "ipython3",
   "version": "3.7.4"
  }
 },
 "nbformat": 4,
 "nbformat_minor": 2
}
